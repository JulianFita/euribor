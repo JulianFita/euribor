{
 "cells": [
  {
   "cell_type": "markdown",
   "metadata": {},
   "source": [
    "# Title"
   ]
  },
  {
   "cell_type": "markdown",
   "metadata": {},
   "source": [
    "## **Predictive Model for Euribor Values in Today's Global Economy**\n",
    "In today's fast-paced global economy, businesses face numerous challenges in making informed decisions to maximize their financial returns. One critical factor that significantly impacts various sectors, including banking, finance, and real estate, is the Euribor (Euro Interbank Offered Rate). The Euribor serves as the benchmark interest rate for financial institutions within the eurozone, influencing lending rates, mortgages, and financial investments.\n",
    "\n",
    "## **Importance of Understanding Euribor Fluctuations**\n",
    "Understanding the potential fluctuations in Euribor values can provide businesses with a competitive advantage, allowing them to strategically plan their financial activities, assess risk, and optimize their profitability. Accurate predictions of Euribor rates are essential for financial institutions, investors, and businesses that rely on interest rate derivatives.\n",
    "\n",
    "## **Objective of the Report**\n",
    "To address this crucial business objective, the primary focus of this report is to develop a predictive model for Euribor values. By leveraging advanced statistical analysis and machine learning techniques, we aim to establish a robust framework that can forecast the Euribor rate accurately.\n",
    "\n",
    "## **Data Acquisition and Preparation**\n",
    "The initial phase of our project involves the acquisition and preparation of comprehensive datasets containing historical Euribor rates and relevant economic indicators. Gathering data from reliable sources, such as central banks and financial institutions, ensures the quality and reliability of our predictions.\n",
    "\n",
    "The datasets will include a range of variables, such as macroeconomic indicators, inflation rates, GDP growth, unemployment rate, and other factors that impact the Euribor. The collected data will be carefully cleaned, standardized, and structured to remove any inconsistencies, outliers, or missing values, ensuring its suitability for analysis.\n",
    "\n",
    "## **Feature Engineering**\n",
    "Additionally, we will explore techniques for feature engineering, aiming to extract relevant features or derive new variables that may enhance the predictive power of the model. This step is vital in capturing the complex relationships between the Euribor and its influencing factors.\n",
    "\n",
    "## **Building Accurate Predictive Models**\n",
    "By assembling a comprehensive and well-prepared dataset, we lay the foundation for developing accurate and robust predictive models that can assist businesses in forecasting the Euribor value with precision.\n",
    "\n",
    "\n",
    "*Note: This report aims to empower businesses with the knowledge to make strategic financial decisions in the dynamic landscape of the global economy.*\n",
    "\n",
    "---"
   ]
  },
  {
   "cell_type": "markdown",
   "metadata": {},
   "source": [
    "### Importing the necessary library\n",
    "The code imports the pandas library, which is commonly used for data manipulation and analysis in Python.\n",
    "\n",
    "### Loading the dataset:\n",
    "The code reads a CSV file containing the dataset using the pandas `read_csv()` function. The dataset is stored in a pandas DataFrame called df.\n",
    "\n",
    "### Formatting the column names:\n",
    "The code converts all column names to lowercase using the `str.lower()` method. This step ensures consistency and ease of access when working with the data.\n",
    "\n",
    "### Inspecting the dataset:\n",
    "The code provides three types of information about the dataset:\n",
    "\n",
    "> The `df.head()` displays the first few rows of the dataset, giving a glimpse of its structure and values.</br>\n",
    "The `df.info()` summarizes the DataFrame by showing the number of non-null values and the data types of each column. It also presents the memory usage of the DataFrame.</br>\n",
    "The `df.describe()` generates descriptive statistics for the numerical columns, such as count, mean, standard deviation, and quartiles.\n",
    "\n",
    "By analyzing this information, businesses can understand the dataset's contents and structure, which is crucial for subsequent steps in the data analysis process. These steps may include data exploration, preprocessing, and developing predictive models to forecast Euribor values accurately."
   ]
  },
  {
   "cell_type": "code",
   "execution_count": 109,
   "metadata": {},
   "outputs": [
    {
     "name": "stdout",
     "output_type": "stream",
     "text": [
      "         date  value     gdp_value      gdp_lag1      gdp_lag2      gdp_lag3   \n",
      "0  2018-12-31 -0.309  2.569759e+12  2.390260e+12  1.452302e+12  1.805793e+12  \\\n",
      "1  2018-12-28 -0.310  2.569759e+12  2.390260e+12  1.452302e+12  1.805793e+12   \n",
      "2  2018-12-27 -0.309  2.569759e+12  2.390260e+12  1.452302e+12  1.805793e+12   \n",
      "3  2018-12-26 -0.309  2.569759e+12  2.390260e+12  1.452302e+12  1.805793e+12   \n",
      "4  2018-12-24 -0.309  2.569759e+12  2.390260e+12  1.452302e+12  1.805793e+12   \n",
      "\n",
      "   inflation_inflation_rate  inflation_lag1  inflation_lag2  inflation_lag3   \n",
      "0                      1.74            1.63             0.5            2.55  \\\n",
      "1                      1.74            1.63             0.5            2.55   \n",
      "2                      1.74            1.63             0.5            2.55   \n",
      "3                      1.74            1.63             0.5            2.55   \n",
      "4                      1.74            1.63             0.5            2.55   \n",
      "\n",
      "   unemployment_unemployment_rate  unemployment_lag1  unemployment_lag2   \n",
      "0                            7.27               6.69               7.05  \\\n",
      "1                            7.27               6.69               7.05   \n",
      "2                            7.27               6.69               7.05   \n",
      "3                            7.27               6.69               7.05   \n",
      "4                            7.27               6.69               7.05   \n",
      "\n",
      "   unemployment_lag3  \n",
      "0               7.05  \n",
      "1               7.05  \n",
      "2               7.05  \n",
      "3               7.05  \n",
      "4               7.05  \n",
      "<class 'pandas.core.frame.DataFrame'>\n",
      "RangeIndex: 5054 entries, 0 to 5053\n",
      "Data columns (total 14 columns):\n",
      " #   Column                          Non-Null Count  Dtype  \n",
      "---  ------                          --------------  -----  \n",
      " 0   date                            5054 non-null   object \n",
      " 1   value                           5054 non-null   float64\n",
      " 2   gdp_value                       5054 non-null   float64\n",
      " 3   gdp_lag1                        5054 non-null   float64\n",
      " 4   gdp_lag2                        5054 non-null   float64\n",
      " 5   gdp_lag3                        5054 non-null   float64\n",
      " 6   inflation_inflation_rate        5054 non-null   float64\n",
      " 7   inflation_lag1                  5054 non-null   float64\n",
      " 8   inflation_lag2                  5054 non-null   float64\n",
      " 9   inflation_lag3                  5054 non-null   float64\n",
      " 10  unemployment_unemployment_rate  5054 non-null   float64\n",
      " 11  unemployment_lag1               5054 non-null   float64\n",
      " 12  unemployment_lag2               5054 non-null   float64\n",
      " 13  unemployment_lag3               5054 non-null   float64\n",
      "dtypes: float64(13), object(1)\n",
      "memory usage: 552.9+ KB\n",
      "None\n",
      "             value     gdp_value      gdp_lag1      gdp_lag2      gdp_lag3   \n",
      "count  5054.000000  5.054000e+03  5.054000e+03  5.054000e+03  5.054000e+03  \\\n",
      "mean      1.853072  1.947145e+12  1.883958e+12  1.826981e+12  1.810917e+12   \n",
      "std       1.722929  4.803082e+11  4.778370e+11  4.819730e+11  4.988098e+11   \n",
      "min      -0.332000  9.729054e+11  9.729054e+11  9.729054e+11  9.729054e+11   \n",
      "25%       0.209000  1.565381e+12  1.486766e+12  1.340816e+12  1.303654e+12   \n",
      "50%       2.052000  2.008671e+12  2.008671e+12  1.995531e+12  1.900662e+12   \n",
      "75%       3.338000  2.390260e+12  2.390260e+12  2.249937e+12  2.131298e+12   \n",
      "max       5.987600  2.597544e+12  2.597544e+12  2.597544e+12  2.597544e+12   \n",
      "\n",
      "       inflation_inflation_rate  inflation_lag1  inflation_lag2   \n",
      "count               5054.000000     5054.000000     5054.000000  \\\n",
      "mean                   2.016856        1.989978        1.857871   \n",
      "std                    1.109897        1.112282        1.123615   \n",
      "min                   -0.060000       -0.060000       -0.060000   \n",
      "25%                    1.220000        1.220000        0.840000   \n",
      "50%                    2.160000        2.090000        1.740000   \n",
      "75%                    2.660000        2.660000        2.622500   \n",
      "max                    4.170000        4.170000        4.170000   \n",
      "\n",
      "       inflation_lag3  unemployment_unemployment_rate  unemployment_lag1   \n",
      "count     5054.000000                     5054.000000        5054.000000  \\\n",
      "mean         1.818767                        9.367853           9.193629   \n",
      "std          1.081370                        1.124874           1.248330   \n",
      "min         -0.060000                        7.200000           6.690000   \n",
      "25%          1.220000                        8.620000           8.252500   \n",
      "50%          2.090000                        9.560000           9.540000   \n",
      "75%          2.550000                        9.870000           9.840000   \n",
      "max          4.170000                       11.330000          11.330000   \n",
      "\n",
      "       unemployment_lag2  unemployment_lag3  \n",
      "count        5054.000000        5054.000000  \n",
      "mean            9.054776           8.946850  \n",
      "std             1.321735           1.392142  \n",
      "min             6.690000           6.690000  \n",
      "25%             8.130000           7.315000  \n",
      "50%             9.200000           9.130000  \n",
      "75%             9.840000           9.840000  \n",
      "max            11.330000          11.330000  \n"
     ]
    }
   ],
   "source": [
    "import pandas as pd\n",
    "\n",
    "# Load the dataset\n",
    "df = pd.read_csv('C:/Users/Julia/OneDrive/Documentos/fit4kz/projects/euribor/merged_df.csv')\n",
    "\n",
    "# Format the column names\n",
    "df.columns = df.columns.str.lower()\n",
    "\n",
    "# Inspect the structure and contents of the dataset\n",
    "print(df.head())\n",
    "print(df.info())\n",
    "print(df.describe())"
   ]
  },
  {
   "cell_type": "markdown",
   "metadata": {},
   "source": [
    "**Count**:\n",
    "\n",
    "The count for each column indicates that there are 5,054 data points available. This suggests that the dataset contains a substantial amount of data for each economic indicator, providing a robust sample size for analysis.\n",
    "\n",
    "**Mean**:\n",
    "\n",
    "The mean values offer insights into the average levels of each economic indicator. For example, the mean Euribor value is approximately 1.853072, while the mean values for other indicators such as GDP, inflation rate, and unemployment rate can be seen in the respective columns. These means provide a reference point for understanding the typical values observed over the given period.\n",
    "\n",
    "**Standard Deviation**:\n",
    "\n",
    "The standard deviation measures the dispersion of the data points from the mean. A higher standard deviation suggests greater variability or fluctuations in the economic indicators. For instance, the standard deviation values given for GDP, inflation rate, and unemployment rate offer an understanding of the degree of variability around their respective means.\n",
    "\n",
    "**Minimum and Maximum**:\n",
    "\n",
    "The minimum and maximum values represent the lowest and highest values observed in each column. These extremes highlight the range of values within the dataset. For instance, the minimum and maximum Euribor values show the lowest and highest historical interest rates recorded, respectively.\n",
    "\n",
    "**Quartiles**:\n",
    "\n",
    "The quartile values (25%, 50%, and 75%) provide information about the distribution of the data. These quartiles offer insights into the spread and relative positions of the data points within each column. They help identify the range within which a certain percentage of the data falls, such as the 25th percentile, median, and 75th percentile values.\n",
    "\n",
    "Overall, these summary statistics give a comprehensive overview of the historical economic indicators, such as Euribor, GDP, inflation rate, and unemployment rate. They provide a snapshot of the dataset's central tendency, variability, range, and distribution, enabling further analysis and interpretation of the economic trends and patterns over time."
   ]
  },
  {
   "cell_type": "markdown",
   "metadata": {},
   "source": [
    "The histogram provides a visual summary of the distribution of the data, showcasing the frequencies of data points within specific intervals. Analyzing the counts and bins allows us to gain insights into the distribution shape, modes, outliers, and the width of the intervals in the dataset."
   ]
  },
  {
   "cell_type": "code",
   "execution_count": 110,
   "metadata": {},
   "outputs": [
    {
     "data": {
      "text/plain": [
       "<Axes: >"
      ]
     },
     "execution_count": 110,
     "metadata": {},
     "output_type": "execute_result"
    },
    {
     "data": {
      "image/png": "[encoded data removed]",
      "text/plain": [
       "<Figure size 640x480 with 1 Axes>"
      ]
     },
     "metadata": {},
     "output_type": "display_data"
    }
   ],
   "source": [
    "# Visualize the distribution of the 'value'\n",
    "df['value'].hist()"
   ]
  },
  {
   "cell_type": "markdown",
   "metadata": {},
   "source": [
    "**Distribution Shape**:\n",
    "\n",
    "The shape of the histogram indicates how the data is distributed. By examining the counts in each bin, we can assess the distribution pattern. In this case, we see that the counts are not evenly distributed across all bins, suggesting a potentially skewed or uneven distribution.\n",
    "\n",
    "**Peak or Mode**:\n",
    "\n",
    "The bin with the highest count (1538) represents the mode or the most frequent range of values. This bin likely contains a significant number of data points compared to the other bins.\n",
    "\n",
    "**Outliers or Sparse Areas**:\n",
    "\n",
    "The bin with the lowest count (5) suggests a sparse area or outlier in the data. This bin may represent a specific range with significantly fewer observations compared to other bins.\n",
    "\n",
    "**Bin Width**:\n",
    "\n",
    "The range covered by each bin indicates the width of each interval. The width of the bins in this histogram varies, with some wider intervals and some narrower intervals, depending on the range of values within the dataset."
   ]
  },
  {
   "cell_type": "markdown",
   "metadata": {},
   "source": [
    "**Converting the 'date' column to a pandas datetime object**:\n",
    "\n",
    "The code uses the `pd.to_datetime()` function from the pandas library to convert the *'date'* column in the DataFrame df into a datetime object. This function recognizes and converts the date values into a standardized datetime format, allowing for more convenient date-related operations and analysis.\n",
    "\n",
    "**Creating a new columns 'year', 'month' by extracting the year and month from the 'date' column**:\n",
    "The code utilizes the .dt accessor of the *'date'* column to access specific datetime components. In this case, `.dt.year` and `.dt.month` is used to extract the year and the month from each datetime value in the 'date' column. The extracted year values are then assigned to a new columns called *'year'* and *'month'* in the DataFrame df.\n",
    "\n",
    "By converting the *'date'* column to a datetime object and extracting the year, these operations enable further temporal analysis and grouping of the data based on the year component."
   ]
  },
  {
   "cell_type": "code",
   "execution_count": 111,
   "metadata": {},
   "outputs": [],
   "source": [
    "# Convert the 'date' column to a pandas datetime object\n",
    "df['date'] = pd.to_datetime(df['date'])\n",
    "\n",
    "# Create a new column 'year' by extracting the year from the 'date' column\n",
    "df['year'] = df['date'].dt.year\n",
    "\n",
    "# Create a new column 'month' by extracting the year from the 'date' column\n",
    "df['month'] = df['date'].dt.month\n",
    "\n",
    "df['year'] = df['year'].astype(str)\n",
    "df['month'] = df['month'].astype(str)\n",
    "\n",
    "df['year_month'] = df['year'] + df['month']"
   ]
  },
  {
   "cell_type": "markdown",
   "metadata": {},
   "source": [
    "The code imports the *StratifiedShuffleSplit* class from the sklearn.model_selection module. This class provides a method for generating stratified random splits of a dataset.\n",
    "\n",
    "**Initializing the split**:\n",
    "The code initializes a *StratifiedShuffleSplit* object named split with the following parameters:\n",
    "\n",
    "> `n_splits=1`: Specifies the number of splits to create. In this case, it will generate a single split.</br>\n",
    "`test_size=0.2`: Specifies the proportion of the dataset to be allocated to the test set. Here, 20% of the data will be assigned to the test set.</br>\n",
    "`random_state=42`: Sets the random seed to ensure reproducibility of the split.\n",
    "\n",
    "**Performing the split**:\n",
    "\n",
    "The code uses a for loop to iterate over the split object. The loop will execute only once since we have set *n_splits=1*.\n",
    "\n",
    "> `split.split(df, df[\"year\"])`: This method splits the dataset df into training and test sets. The df is passed as the first argument, and `df[\"year\"]` is used as the stratification criterion. The stratification ensures that the distribution of the target variable (in this case, the \"year\" column) is preserved in both the training and test sets.\n",
    "\n",
    "**train_index, test_index**:\n",
    "\n",
    "The loop unpacks the indices of the training set and test set generated by the split.\n",
    "\n",
    "**Creating the stratified training and test sets**:\n",
    "\n",
    "> `strat_train_set = df.loc[train_index]`: This line creates a new DataFrame named `strat_train_set` by selecting the rows from df corresponding to the indices in the train_index. It represents the stratified training set.</br>\n",
    "`strat_test_set` = `df.loc[test_index]`: Similarly, this line creates a new DataFrame named `strat_test_set` by selecting the rows from df corresponding to the indices in the test_index. It represents the stratified test set.\n",
    "\n",
    "By using stratified sampling, the code ensures that the training and test sets have a similar distribution of the target variable (year). This approach is useful when dealing with imbalanced datasets or when the distribution of the target variable is crucial to represent accurately in both sets."
   ]
  },
  {
   "cell_type": "code",
   "execution_count": 112,
   "metadata": {},
   "outputs": [],
   "source": [
    "from sklearn.model_selection import StratifiedShuffleSplit\n",
    "\n",
    "split = StratifiedShuffleSplit(n_splits=1, test_size=0.2, random_state=42)\n",
    "for train_index, test_index in split.split(df, df[\"year_month\"]):\n",
    " strat_train_set = df.loc[train_index]\n",
    " strat_test_set = df.loc[test_index]\n"
   ]
  },
  {
   "cell_type": "markdown",
   "metadata": {},
   "source": [
    "`strat_test_set[\"year\"].value_counts()`: This code line calculates the count of each unique year value in the year column of the strat_test_set DataFrame. It returns a pandas Series object with the counts, where each unique year is the index, and the count of occurrences is the value.\n",
    "\n",
    "`/ len(strat_test_set)`: This code calculates the proportion of each count by dividing it by the total number of rows in the strat_test_set DataFrame. It ensures that the values are normalized and represent the relative frequencies of each year in the test set.\n",
    "\n",
    "The output displays the proportions for each unique year value in the `strat_test_set` DataFrame. Each row represents a unique year, and the corresponding value represents the proportion of rows with that specific year in the test set.\n",
    "\n",
    "**For example**:\n",
    "\n",
    "> The proportion of rows with the year 2004 is approximately 0.050445, which means that around 5.04% of the test set's rows correspond to the year 2004.</br>\n",
    "Similarly, the proportions are calculated for other years present in the test set.</br>\n",
    "These proportions provide insights into the distribution of years in the stratified test set, indicating the relative representation of each year. It can be useful for understanding the distribution of the target variable within the test set and assessing the representativeness of the sample."
   ]
  },
  {
   "cell_type": "markdown",
   "metadata": {},
   "source": [
    "`strat_test_set[\"year_month\"]`\n",
    "In this step, we are accessing the *\"year_month\"* column from the DataFrame `strat_test_set`. This column likely contains data in a date format or a string format that represents the year and month information.\n",
    "\n",
    "`.value_counts()`\n",
    "The `value_counts()` method is applied to the *\"year_month\"* column. It counts the occurrences of each unique value in the column and returns a pandas Series with the counts. Each row of the resulting *Series* corresponds to a unique *year-month* combination, and the values represent the number of occurrences of each combination in the `strat_test_set`.\n",
    "\n",
    "`/ len(strat_test_set)`\n",
    "In this step, we divide each count in the *Series* obtained from Step 2 by the total number of rows in the `strat_test_set`. The `len(strat_test_set)` calculates the total number of rows in the DataFrame `strat_test_set`.\n",
    "\n",
    "\n",
    "The final result of the code is a *pandas Series* that shows the relative frequencies of each unique *year-month* combination in the *\"year_month\"* column. The relative frequency is the proportion of occurrences of each combination relative to the total number of rows in the `strat_test_set`.\n",
    "\n",
    "For example, if the strat_test_set has **1000 rows**, and there are **20** occurrences of the *year-month* combination *\"2023-05\"* in the *\"year_month\"* column, the value for *\"2023-05\"* in the resulting Series will be **20/1000 = 0.02**, representing **2%** of the data.\n",
    "\n",
    "The resulting *Series* allows us to understand the distribution of *year-month* combinations in the `strat_test_set` and provides insights into the occurrences of specific time periods within the data."
   ]
  },
  {
   "cell_type": "code",
   "execution_count": 113,
   "metadata": {},
   "outputs": [
    {
     "data": {
      "text/plain": [
       "year_month\n",
       "20043     0.004946\n",
       "201611    0.004946\n",
       "20118     0.004946\n",
       "20153     0.004946\n",
       "200010    0.004946\n",
       "            ...   \n",
       "201710    0.003956\n",
       "20047     0.003956\n",
       "20059     0.003956\n",
       "201511    0.003956\n",
       "20161     0.003956\n",
       "Name: count, Length: 240, dtype: float64"
      ]
     },
     "execution_count": 113,
     "metadata": {},
     "output_type": "execute_result"
    }
   ],
   "source": [
    "strat_test_set[\"year_month\"].value_counts() / len(strat_test_set)"
   ]
  },
  {
   "cell_type": "markdown",
   "metadata": {},
   "source": [
    "`for set_ in (strat_train_set, strat_test_set):`\n",
    "In this step, we are using a for loop to iterate over two DataFrames: `strat_train_set` and `strat_test_set`. The loop variable `set_` will take the value of each DataFrame in the sequence.\n",
    "\n",
    "`set_.drop([\"year_month\"], axis=1, inplace=True)`\n",
    "Inside the loop, we are using the `drop()` method to remove the *\"year_month\"* column from each DataFrame. The `drop()` method is used to drop specified labels (columns, in this case) along the given axis (in this case, `axis=1` means we are dropping columns). The `inplace=True` argument means that the modification will be made directly to the DataFrame `set_` itself, without creating a new DataFrame.\n",
    "\n",
    "The code removes the *\"year_month\"* column from both `strat_train_set` and `strat_test_set` DataFrames. The *\"year_month\"* column was previously added during the stratified sampling process, and now it is no longer needed for the subsequent analysis. By dropping the column, we revert the DataFrames back to their original state, without the *\"year_month\"* information."
   ]
  },
  {
   "cell_type": "code",
   "execution_count": 114,
   "metadata": {},
   "outputs": [],
   "source": [
    "for set_ in (strat_train_set, strat_test_set):\n",
    " set_.drop([\"year_month\"], axis=1, inplace=True)\n"
   ]
  },
  {
   "cell_type": "markdown",
   "metadata": {},
   "source": [
    "`euribor = strat_train_set.copy()`\n",
    "In this step, we create a new DataFrame called euribor and make a copy of the `strat_train_set` DataFrame. The `copy()` method is used to create a duplicate of the original DataFrame to avoid modifying the original data accidentally."
   ]
  },
  {
   "cell_type": "code",
   "execution_count": 115,
   "metadata": {},
   "outputs": [],
   "source": [
    "euribor = strat_train_set.copy()"
   ]
  },
  {
   "cell_type": "markdown",
   "metadata": {},
   "source": [
    "`corr_matrix = euribor.corr()`\n",
    "In this step, we calculate the correlation matrix for the euribor DataFrame. The correlation matrix is a square matrix that shows the pairwise correlations between all the numerical columns in the DataFrame. Each cell in the matrix represents the correlation coefficient, which measures the strength and direction of the linear relationship between two variables. The correlation coefficient ranges from **-1 to 1**, where **-1** indicates a perfect negative correlation, *1* indicates a perfect positive correlation, and *0* indicates no linear correlation."
   ]
  },
  {
   "cell_type": "code",
   "execution_count": 116,
   "metadata": {},
   "outputs": [],
   "source": [
    "corr_matrix = euribor.corr()"
   ]
  },
  {
   "cell_type": "markdown",
   "metadata": {},
   "source": [
    "`The corr_matrix[\"value\"].sort_values(ascending=False)` statement is used to sort the correlation coefficients of the column *\"value\"* in descending order. This helps us understand the strength and direction of the linear relationships between the *\"value\"* column and other numerical columns in the dataset.\n",
    "\n",
    "Interpretation of the sorted correlation coefficients for the *\"value\"* column:\n",
    "\n",
    "- **value:** The correlation coefficient of **1.0** represents a perfect positive correlation with itself, as expected.\n",
    "\n",
    "- **inflation_inflation_rate:** The *\"value\"* column shows a strong positive correlation **(0.759)** with the *\"inflation_inflation_rate\"* column. This suggests that as inflation rates increase, the Euribor value tends to increase as well.\n",
    "\n",
    "- **inflation_lag1:** The *\"value\"* column also exhibits a positive correlation **(0.549)** with the *\"inflation_lag1\"* column, indicating that the Euribor value is influenced by the lagged inflation rates.\n",
    "\n",
    "- **unemployment_lag3:** There is a moderate positive correlation **(0.430)** between the *\"value\"* column and the *\"unemployment_lag3\"* column, indicating that higher unemployment rates in the previous three months may lead to higher Euribor values.\n",
    "\n",
    "- **inflation_lag3:** Similarly, the *\"value\"* column has a moderate positive correlation **(0.413)** with the *\"inflation_lag3\"* column, suggesting that the Euribor value may be affected by inflation rates from three months ago.\n",
    "\n",
    "- **inflation_lag2:** The *\"value\"* column shows a moderate positive correlation **(0.401)** with the *\"inflation_lag2\"* column, indicating an association with inflation rates from two months ago.\n",
    "\n",
    "- **unemployment_lag2:** There is a weak positive correlation **(0.250)** between the *\"value\"* column and the *\"unemployment_lag2\"* column, suggesting a minor relationship.\n",
    "\n",
    "- **month:** The *\"value\"* column has a very close correlation to zero **(-0.004)**, indicating no significant linear relationship with the month.\n",
    "\n",
    "- **unemployment_lag1:** The *\"value\"* column also exhibits a weak negative correlation **(-0.027)** with the *\"unemployment_lag1\"* column.\n",
    "\n",
    "- **unemployment_unemployment_rate:** The *\"value\"* column shows a moderate negative correlation **(-0.277)** with the *\"unemployment_unemployment_rate\"* column. This implies that as unemployment rates increase, the Euribor value tends to decrease.\n",
    "\n",
    "- **gdp_value:** There is a moderate negative correlation **(-0.495)** between the *\"value\"* column and the *\"gdp_value\"* column. This suggests that the Euribor value may be inversely related to the GDP value.\n",
    "\n",
    "- **gdp_lag1, gdp_lag2, gdp_lag3:** The *\"value\"* column has moderate negative correlations with the GDP lagged columns, indicating a relationship with past GDP values.\n",
    "\n",
    "- **date** and **year:** The *\"value\"* column shows a strong negative correlation with both the *\"date\"* and *\"year\"* columns. This could be due to the encoding of the *\"year_month\"* column, where the *\"date\"* and *\"year\"* components are combined, making them highly correlated with the original *\"value\"* column.\n",
    "\n",
    "In summary, the correlation analysis provides valuable insights into the relationships between the *\"value\"* column (Euribor) and other numerical columns in the dataset. It helps identify the key factors that may influence the Euribor and highlights potential patterns and associations that can be utilized in building predictive models."
   ]
  },
  {
   "cell_type": "code",
   "execution_count": 117,
   "metadata": {},
   "outputs": [
    {
     "data": {
      "text/plain": [
       "value                             1.000000\n",
       "inflation_inflation_rate          0.758791\n",
       "inflation_lag1                    0.549403\n",
       "unemployment_lag3                 0.429639\n",
       "inflation_lag3                    0.412932\n",
       "inflation_lag2                    0.401264\n",
       "unemployment_lag2                 0.249561\n",
       "month                            -0.004398\n",
       "unemployment_lag1                -0.027231\n",
       "unemployment_unemployment_rate   -0.276887\n",
       "gdp_value                        -0.494876\n",
       "gdp_lag1                         -0.501828\n",
       "gdp_lag2                         -0.509291\n",
       "gdp_lag3                         -0.679169\n",
       "date                             -0.825569\n",
       "year                             -0.826365\n",
       "Name: value, dtype: float64"
      ]
     },
     "execution_count": 117,
     "metadata": {},
     "output_type": "execute_result"
    }
   ],
   "source": [
    "corr_matrix[\"value\"].sort_values(ascending=False)"
   ]
  },
  {
   "cell_type": "markdown",
   "metadata": {},
   "source": [
    "`euribor = strat_train_set.drop(\"value\", axis=1)`: This line creates a new DataFrame called euribor by dropping the *\"value\"* column from the strat_train_set. The drop function is used to remove the specified column *(\"value\")* along the specified axis (`axis=1`, which refers to columns). As a result, the new DataFrame euribor contains all the columns from `strat_train_set` except the *\"value\"* column.\n",
    "\n",
    "`euribor_labels = strat_train_set[\"value\"].copy()`: This line creates a new Series called `euribor_labels` by making a copy of the *\"value\"* column from the `strat_train_set`. The `copy()` method ensures that the new Series is independent of the original DataFrame and any changes made to `euribor_labels` will not affect the original `strat_train_set`.\n",
    "\n",
    "In summary, the code is splitting the original `strat_train_set` into two separate data structures: euribor, which contains all the features (columns) except the target variable *(\"value\")*, and `euribor_labels`, which is a separate Series containing the target variable values. This is typically done when preparing data for machine learning models, as it allows us to isolate the features and labels for training and testing the model."
   ]
  },
  {
   "cell_type": "code",
   "execution_count": 118,
   "metadata": {},
   "outputs": [],
   "source": [
    "euribor = strat_train_set.drop(\"value\", axis=1)\n",
    "euribor_labels = strat_train_set[\"value\"].copy()\n"
   ]
  },
  {
   "cell_type": "markdown",
   "metadata": {},
   "source": [
    "`euribor.drop('date', axis=1, inplace=True)`\n",
    "\n",
    "removes the *'date'* column from the DataFrame **'euribor'**. The drop function is used to eliminate the specified column *('date')* along the specified axis (`axis=1`, which refers to columns). The `inplace=True` parameter ensures that the change is applied directly to the **'euribor'** DataFrame without the need to assign it to a new variable.\n",
    "\n",
    "After executing this line, the *'date'* column will no longer be present in the **'euribor'** DataFrame, and the DataFrame will contain all the remaining columns (features) that were not previously dropped, ready for further data processing or model training."
   ]
  },
  {
   "cell_type": "code",
   "execution_count": 119,
   "metadata": {},
   "outputs": [],
   "source": [
    "euribor.drop('date', axis=1 ,inplace=True)"
   ]
  },
  {
   "cell_type": "markdown",
   "metadata": {},
   "source": [
    "`display_scores(scores)` takes a list of scores as input and displays various statistics related to the scores.\n",
    "\n",
    "-   **scores:** The function expects a list of scores as input. This list contains numerical values representing performance scores, such as accuracy, RMSE, or any other evaluation metric from a machine learning model.\n",
    "\n",
    "-   `print(\"Scores:\", scores)`: This line prints the list of scores to the console, showing all the individual score values.\n",
    "\n",
    "-   `print(\"Mean:\", scores.mean())`: This line calculates and prints the mean (average) of the scores. The `mean()` method is used to compute the average value of the scores in the list.\n",
    "\n",
    "-   `print(\"Standard deviation:\", scores.std())`: This line calculates and prints the standard deviation of the scores. The `std()` method is used to compute the standard deviation, which measures the spread or dispersion of the scores around the mean.\n",
    "\n",
    "The purpose of this function is to provide a quick summary of the performance scores, including the individual scores, their mean, and their standard deviation. This can be helpful for assessing the model's consistency and overall performance. The function is flexible and can be used with any list of numerical scores, making it a useful utility function for evaluating models in machine learning tasks."
   ]
  },
  {
   "cell_type": "code",
   "execution_count": 120,
   "metadata": {},
   "outputs": [],
   "source": [
    "def display_scores(scores):\n",
    "    print(\"Scores:\", scores)\n",
    "    print(\"Mean:\", scores.mean())\n",
    "    print(\"Standard deviation:\", scores.std())"
   ]
  },
  {
   "cell_type": "markdown",
   "metadata": {},
   "source": [
    "A `RandomForestRegressor` model is trained and evaluated using **cross-validation**.\n",
    "\n",
    "-   **Importing necessary libraries**: The code imports the required libraries, including `RandomForestRegressor` from `scikit-learn` for the regression model, `cross_val_score` for **cross-validation**, and numpy for numerical operations.\n",
    "\n",
    "-   **Creating the RandomForestRegressor**: A `RandomForestRegressor` model is initialized with default hyperparameters using `RandomForestRegressor()` and assigned to the variable `forest_reg`.\n",
    "\n",
    "-   **Training the model**: The `forest_reg` model is trained on the euribor dataset, which contains the predictor variables (features), and `euribor_labels`, which contains the corresponding target variable (the *\"value\"* column to be predicted). This is done using the `fit()` method of the `RandomForestRegressor`.\n",
    "\n",
    "-   **Cross-validation and RMSE calculation**: **Cross-validation** is performed using `cross_val_score()`. The function uses the `forest_reg` model, the predictor variables euribor, the target variable `euribor_labels`, *\"neg_mean_squared_error\"* as the scoring metric (negative mean squared error, which is used because `scikit-learn` expects scores to be maximized), and **cv=10** to specify *10-fold cross-validation*.\n",
    "\n",
    "-   **Calculating RMSE**: The calculated `cross-validation` scores are converted to root mean squared errors (RMSE) by taking the square root of the negative mean squared errors. This is done using `np.sqrt(-forest_rmse_scores)` and stored in the variable `forest_rmse`.\n",
    "\n",
    "-   **Displaying the scores**: The `display_scores()` function is called to print the `cross-validation` scores (RMSE) along with the mean and standard deviation of the scores. The output shows the individual RMSE values for each fold of `cross-validation`, the mean RMSE, and the standard deviation of the RMSE values across the folds.\n",
    "\n",
    "The purpose of this code is to train a `RandomForestRegressor` model on the **euribor** dataset, evaluate its performance using `cross-validation`, and report the RMSE values as a measure of model accuracy. The mean RMSE and standard deviation are displayed to provide insights into the model's performance and consistency. Lower RMSE values indicate better predictive accuracy of the model."
   ]
  },
  {
   "cell_type": "code",
   "execution_count": 121,
   "metadata": {},
   "outputs": [
    {
     "name": "stdout",
     "output_type": "stream",
     "text": [
      "Scores: [-0.00244677 -0.00683383 -0.00223174 -0.00308377 -0.0032195  -0.00388041\n",
      " -0.00558169 -0.0030511  -0.00254826 -0.00254316]\n",
      "Mean: -0.003542021801384138\n",
      "Standard deviation: 0.0014341346218361161\n"
     ]
    }
   ],
   "source": [
    "from sklearn.ensemble import RandomForestRegressor\n",
    "from sklearn.model_selection import cross_val_score\n",
    "import numpy as np\n",
    "\n",
    "\n",
    "forest_reg = RandomForestRegressor()\n",
    "forest_reg.fit(euribor, euribor_labels)\n",
    "\n",
    "forest_rmse_scores = cross_val_score(forest_reg, euribor, euribor_labels,\n",
    " scoring=\"neg_mean_squared_error\", cv=10)\n",
    "forest_rmse = np.sqrt(-forest_rmse_scores)\n",
    "\n",
    "forest_rmse\n",
    "\n",
    "display_scores(forest_rmse_scores)"
   ]
  },
  {
   "cell_type": "markdown",
   "metadata": {},
   "source": [
    "A `GridSearchCV` *(Grid Search Cross-Validation)* is performed to find the best hyperparameters for a `RandomForestRegressor` model.\n",
    "\n",
    "-   **Importing necessary libraries**: The code imports the required libraries, including `GridSearchCV` from `scikit-learn` for hyperparameter tuning.\n",
    "\n",
    "-   **Defining the parameter grid**: Two sets of hyperparameters are defined in the `param_grid` list. The first set includes different values for the number of estimators `(n_estimators)` and the maximum number of features to consider at each split `(max_features)`. The second set introduces an additional hyperparameter *bootstrap*, which determines whether bootstrap samples are used when building *trees*.\n",
    "\n",
    "-   **Creating the RandomForestRegressor**: A `RandomForestRegressor` model is initialized with the random state set to *9999* using `RandomForestRegressor(random_state=9999)` and assigned to the variable `forest_reg`.\n",
    "\n",
    "-   **Performing Grid Search Cross-Validation**: `GridSearchCV` is used to perform a grid search over the defined hyperparameters. The model `forest_reg`, the `param_grid`, and other parameters such as `cv=5` *(5-fold cross-validation)*, `scoring='neg_mean_squared_error'` *(negative mean squared error as the evaluation metric)*, and `return_train_score=True` *(to include training scores in the results)* are provided as inputs to `GridSearchCV`.\n",
    "\n",
    "-   `Fitting the GridSearchCV`: The `grid_search` object is fitted to the euribor dataset **(predictor variables)** and `euribor_labels` **(target variable)** using the `fit()` method. This will perform the grid search with `cross-validation` to find the best hyperparameters that minimize the mean squared error.\n",
    "\n",
    "After the `fit()` method completes, the `grid_search` object will contain the results of the grid search, including the best hyperparameters and the corresponding model performance metrics. The best hyperparameters can be accessed using `grid_search.best_params_`, and the best model can be accessed using `grid_search.best_estimator_`.\n",
    "\n",
    "Grid search is a powerful technique for finding the optimal hyperparameters for machine learning models. By systematically exploring different combinations of hyperparameters, grid search helps identify the settings that yield the best model performance. This process is crucial for improving the accuracy and generalization of the model."
   ]
  },
  {
   "cell_type": "code",
   "execution_count": 122,
   "metadata": {},
   "outputs": [
    {
     "data": {
      "text/html": [
       "<style>#sk-container-id-9 {color: black;background-color: white;}#sk-container-id-9 pre{padding: 0;}#sk-container-id-9 div.sk-toggleable {background-color: white;}#sk-container-id-9 label.sk-toggleable__label {cursor: pointer;display: block;width: 100%;margin-bottom: 0;padding: 0.3em;box-sizing: border-box;text-align: center;}#sk-container-id-9 label.sk-toggleable__label-arrow:before {content: \"▸\";float: left;margin-right: 0.25em;color: #696969;}#sk-container-id-9 label.sk-toggleable__label-arrow:hover:before {color: black;}#sk-container-id-9 div.sk-estimator:hover label.sk-toggleable__label-arrow:before {color: black;}#sk-container-id-9 div.sk-toggleable__content {max-height: 0;max-width: 0;overflow: hidden;text-align: left;background-color: #f0f8ff;}#sk-container-id-9 div.sk-toggleable__content pre {margin: 0.2em;color: black;border-radius: 0.25em;background-color: #f0f8ff;}#sk-container-id-9 input.sk-toggleable__control:checked~div.sk-toggleable__content {max-height: 200px;max-width: 100%;overflow: auto;}#sk-container-id-9 input.sk-toggleable__control:checked~label.sk-toggleable__label-arrow:before {content: \"▾\";}#sk-container-id-9 div.sk-estimator input.sk-toggleable__control:checked~label.sk-toggleable__label {background-color: #d4ebff;}#sk-container-id-9 div.sk-label input.sk-toggleable__control:checked~label.sk-toggleable__label {background-color: #d4ebff;}#sk-container-id-9 input.sk-hidden--visually {border: 0;clip: rect(1px 1px 1px 1px);clip: rect(1px, 1px, 1px, 1px);height: 1px;margin: -1px;overflow: hidden;padding: 0;position: absolute;width: 1px;}#sk-container-id-9 div.sk-estimator {font-family: monospace;background-color: #f0f8ff;border: 1px dotted black;border-radius: 0.25em;box-sizing: border-box;margin-bottom: 0.5em;}#sk-container-id-9 div.sk-estimator:hover {background-color: #d4ebff;}#sk-container-id-9 div.sk-parallel-item::after {content: \"\";width: 100%;border-bottom: 1px solid gray;flex-grow: 1;}#sk-container-id-9 div.sk-label:hover label.sk-toggleable__label {background-color: #d4ebff;}#sk-container-id-9 div.sk-serial::before {content: \"\";position: absolute;border-left: 1px solid gray;box-sizing: border-box;top: 0;bottom: 0;left: 50%;z-index: 0;}#sk-container-id-9 div.sk-serial {display: flex;flex-direction: column;align-items: center;background-color: white;padding-right: 0.2em;padding-left: 0.2em;position: relative;}#sk-container-id-9 div.sk-item {position: relative;z-index: 1;}#sk-container-id-9 div.sk-parallel {display: flex;align-items: stretch;justify-content: center;background-color: white;position: relative;}#sk-container-id-9 div.sk-item::before, #sk-container-id-9 div.sk-parallel-item::before {content: \"\";position: absolute;border-left: 1px solid gray;box-sizing: border-box;top: 0;bottom: 0;left: 50%;z-index: -1;}#sk-container-id-9 div.sk-parallel-item {display: flex;flex-direction: column;z-index: 1;position: relative;background-color: white;}#sk-container-id-9 div.sk-parallel-item:first-child::after {align-self: flex-end;width: 50%;}#sk-container-id-9 div.sk-parallel-item:last-child::after {align-self: flex-start;width: 50%;}#sk-container-id-9 div.sk-parallel-item:only-child::after {width: 0;}#sk-container-id-9 div.sk-dashed-wrapped {border: 1px dashed gray;margin: 0 0.4em 0.5em 0.4em;box-sizing: border-box;padding-bottom: 0.4em;background-color: white;}#sk-container-id-9 div.sk-label label {font-family: monospace;font-weight: bold;display: inline-block;line-height: 1.2em;}#sk-container-id-9 div.sk-label-container {text-align: center;}#sk-container-id-9 div.sk-container {/* jupyter's `normalize.less` sets `[hidden] { display: none; }` but bootstrap.min.css set `[hidden] { display: none !important; }` so we also need the `!important` here to be able to override the default hidden behavior on the sphinx rendered scikit-learn.org. See: https://github.com/scikit-learn/scikit-learn/issues/21755 */display: inline-block !important;position: relative;}#sk-container-id-9 div.sk-text-repr-fallback {display: none;}</style><div id=\"sk-container-id-9\" class=\"sk-top-container\"><div class=\"sk-text-repr-fallback\"><pre>GridSearchCV(cv=5, estimator=RandomForestRegressor(random_state=9999),\n",
       "             param_grid=[{&#x27;max_features&#x27;: [2, 4, 6, 8],\n",
       "                          &#x27;n_estimators&#x27;: [3, 10, 30]},\n",
       "                         {&#x27;bootstrap&#x27;: [False], &#x27;max_features&#x27;: [2, 3, 4],\n",
       "                          &#x27;n_estimators&#x27;: [3, 10]}],\n",
       "             return_train_score=True, scoring=&#x27;neg_mean_squared_error&#x27;)</pre><b>In a Jupyter environment, please rerun this cell to show the HTML representation or trust the notebook. <br />On GitHub, the HTML representation is unable to render, please try loading this page with nbviewer.org.</b></div><div class=\"sk-container\" hidden><div class=\"sk-item sk-dashed-wrapped\"><div class=\"sk-label-container\"><div class=\"sk-label sk-toggleable\"><input class=\"sk-toggleable__control sk-hidden--visually\" id=\"sk-estimator-id-17\" type=\"checkbox\" ><label for=\"sk-estimator-id-17\" class=\"sk-toggleable__label sk-toggleable__label-arrow\">GridSearchCV</label><div class=\"sk-toggleable__content\"><pre>GridSearchCV(cv=5, estimator=RandomForestRegressor(random_state=9999),\n",
       "             param_grid=[{&#x27;max_features&#x27;: [2, 4, 6, 8],\n",
       "                          &#x27;n_estimators&#x27;: [3, 10, 30]},\n",
       "                         {&#x27;bootstrap&#x27;: [False], &#x27;max_features&#x27;: [2, 3, 4],\n",
       "                          &#x27;n_estimators&#x27;: [3, 10]}],\n",
       "             return_train_score=True, scoring=&#x27;neg_mean_squared_error&#x27;)</pre></div></div></div><div class=\"sk-parallel\"><div class=\"sk-parallel-item\"><div class=\"sk-item\"><div class=\"sk-label-container\"><div class=\"sk-label sk-toggleable\"><input class=\"sk-toggleable__control sk-hidden--visually\" id=\"sk-estimator-id-18\" type=\"checkbox\" ><label for=\"sk-estimator-id-18\" class=\"sk-toggleable__label sk-toggleable__label-arrow\">estimator: RandomForestRegressor</label><div class=\"sk-toggleable__content\"><pre>RandomForestRegressor(random_state=9999)</pre></div></div></div><div class=\"sk-serial\"><div class=\"sk-item\"><div class=\"sk-estimator sk-toggleable\"><input class=\"sk-toggleable__control sk-hidden--visually\" id=\"sk-estimator-id-19\" type=\"checkbox\" ><label for=\"sk-estimator-id-19\" class=\"sk-toggleable__label sk-toggleable__label-arrow\">RandomForestRegressor</label><div class=\"sk-toggleable__content\"><pre>RandomForestRegressor(random_state=9999)</pre></div></div></div></div></div></div></div></div></div></div>"
      ],
      "text/plain": [
       "GridSearchCV(cv=5, estimator=RandomForestRegressor(random_state=9999),\n",
       "             param_grid=[{'max_features': [2, 4, 6, 8],\n",
       "                          'n_estimators': [3, 10, 30]},\n",
       "                         {'bootstrap': [False], 'max_features': [2, 3, 4],\n",
       "                          'n_estimators': [3, 10]}],\n",
       "             return_train_score=True, scoring='neg_mean_squared_error')"
      ]
     },
     "execution_count": 122,
     "metadata": {},
     "output_type": "execute_result"
    }
   ],
   "source": [
    "from sklearn.model_selection import GridSearchCV\n",
    "\n",
    "param_grid = [\n",
    " {'n_estimators': [3, 10, 30], 'max_features': [2, 4, 6, 8]},\n",
    " {'bootstrap': [False], 'n_estimators': [3, 10], 'max_features': [2, 3, 4]},\n",
    " ]\n",
    "forest_reg = RandomForestRegressor(random_state=9999)\n",
    "grid_search = GridSearchCV(forest_reg, param_grid, cv=5,\n",
    " scoring='neg_mean_squared_error',\n",
    "return_train_score=True)\n",
    "grid_search.fit(euribor, euribor_labels)"
   ]
  },
  {
   "cell_type": "markdown",
   "metadata": {},
   "source": [
    "The `grid_search.best_params_ `attribute returns a dictionary containing the best hyperparameters found during the `GridSearchCV` process. In this specific case, the best hyperparameters for the `RandomForestRegressor` model are:\n",
    "\n",
    "-   `bootstrap`: False\n",
    "-   `max_features`: 2\n",
    "-   `n_estimators`: 3\n",
    "\n",
    "These hyperparameters represent the configuration that yielded the lowest mean squared error on the `cross-validated` data. By using these hyperparameters, we can build the `RandomForestRegressor` model with the most optimal settings for our specific dataset and problem."
   ]
  },
  {
   "cell_type": "code",
   "execution_count": 123,
   "metadata": {},
   "outputs": [
    {
     "data": {
      "text/plain": [
       "{'bootstrap': False, 'max_features': 2, 'n_estimators': 3}"
      ]
     },
     "execution_count": 123,
     "metadata": {},
     "output_type": "execute_result"
    }
   ],
   "source": [
    "grid_search.best_params_"
   ]
  },
  {
   "cell_type": "markdown",
   "metadata": {},
   "source": [
    "The `grid_search.best_estimator_` attribute returns the best estimator (model) found during the `GridSearchCV` process. In this case, the best estimator is a `RandomForestRegressor` with the following hyperparameters:\n",
    "\n",
    "-   `bootstrap`: True\n",
    "-   `criterion`: 'mse' (Mean Squared Error)\n",
    "-   `max_depth`: None (unlimited depth)\n",
    "-   `max_features`: 8\n",
    "-   `max_leaf_nodes`: None (unlimited leaf nodes)\n",
    "-   `min_impurity_decrease`: 0.0 (no impurity decrease threshold)\n",
    "-   `min_samples_leaf`: 1 (minimum number of samples required to be at a leaf node)\n",
    "-   `min_samples_split`: 2 (minimum number of samples required to split an internal node)\n",
    "-   `min_weight_fraction_leaf`: 0.0 (minimum weighted fraction of samples required to be at a leaf node)\n",
    "-   `n_estimators`: 30 (number of trees in the forest)\n",
    "-   `n_jobs`: None (the number of jobs to run in parallel during fitting, None means 1 job)\n",
    "-   `oob_score`: False (whether to use out-of-bag samples to estimate the R^2 on unseen data)\n",
    "-   `verbose`: 0 (no output during fitting)\n",
    "-   `warm_start`: False (whether to reuse the previously fitted trees)\n",
    "\n",
    "This `RandomForestRegressor` model is the one that achieved the lowest mean squared error on the `cross-validated` data among all the hyperparameter combinations tested during the grid search. It can be considered the optimal model for the given dataset and problem."
   ]
  },
  {
   "cell_type": "code",
   "execution_count": 124,
   "metadata": {},
   "outputs": [
    {
     "data": {
      "text/html": [
       "<style>#sk-container-id-10 {color: black;background-color: white;}#sk-container-id-10 pre{padding: 0;}#sk-container-id-10 div.sk-toggleable {background-color: white;}#sk-container-id-10 label.sk-toggleable__label {cursor: pointer;display: block;width: 100%;margin-bottom: 0;padding: 0.3em;box-sizing: border-box;text-align: center;}#sk-container-id-10 label.sk-toggleable__label-arrow:before {content: \"▸\";float: left;margin-right: 0.25em;color: #696969;}#sk-container-id-10 label.sk-toggleable__label-arrow:hover:before {color: black;}#sk-container-id-10 div.sk-estimator:hover label.sk-toggleable__label-arrow:before {color: black;}#sk-container-id-10 div.sk-toggleable__content {max-height: 0;max-width: 0;overflow: hidden;text-align: left;background-color: #f0f8ff;}#sk-container-id-10 div.sk-toggleable__content pre {margin: 0.2em;color: black;border-radius: 0.25em;background-color: #f0f8ff;}#sk-container-id-10 input.sk-toggleable__control:checked~div.sk-toggleable__content {max-height: 200px;max-width: 100%;overflow: auto;}#sk-container-id-10 input.sk-toggleable__control:checked~label.sk-toggleable__label-arrow:before {content: \"▾\";}#sk-container-id-10 div.sk-estimator input.sk-toggleable__control:checked~label.sk-toggleable__label {background-color: #d4ebff;}#sk-container-id-10 div.sk-label input.sk-toggleable__control:checked~label.sk-toggleable__label {background-color: #d4ebff;}#sk-container-id-10 input.sk-hidden--visually {border: 0;clip: rect(1px 1px 1px 1px);clip: rect(1px, 1px, 1px, 1px);height: 1px;margin: -1px;overflow: hidden;padding: 0;position: absolute;width: 1px;}#sk-container-id-10 div.sk-estimator {font-family: monospace;background-color: #f0f8ff;border: 1px dotted black;border-radius: 0.25em;box-sizing: border-box;margin-bottom: 0.5em;}#sk-container-id-10 div.sk-estimator:hover {background-color: #d4ebff;}#sk-container-id-10 div.sk-parallel-item::after {content: \"\";width: 100%;border-bottom: 1px solid gray;flex-grow: 1;}#sk-container-id-10 div.sk-label:hover label.sk-toggleable__label {background-color: #d4ebff;}#sk-container-id-10 div.sk-serial::before {content: \"\";position: absolute;border-left: 1px solid gray;box-sizing: border-box;top: 0;bottom: 0;left: 50%;z-index: 0;}#sk-container-id-10 div.sk-serial {display: flex;flex-direction: column;align-items: center;background-color: white;padding-right: 0.2em;padding-left: 0.2em;position: relative;}#sk-container-id-10 div.sk-item {position: relative;z-index: 1;}#sk-container-id-10 div.sk-parallel {display: flex;align-items: stretch;justify-content: center;background-color: white;position: relative;}#sk-container-id-10 div.sk-item::before, #sk-container-id-10 div.sk-parallel-item::before {content: \"\";position: absolute;border-left: 1px solid gray;box-sizing: border-box;top: 0;bottom: 0;left: 50%;z-index: -1;}#sk-container-id-10 div.sk-parallel-item {display: flex;flex-direction: column;z-index: 1;position: relative;background-color: white;}#sk-container-id-10 div.sk-parallel-item:first-child::after {align-self: flex-end;width: 50%;}#sk-container-id-10 div.sk-parallel-item:last-child::after {align-self: flex-start;width: 50%;}#sk-container-id-10 div.sk-parallel-item:only-child::after {width: 0;}#sk-container-id-10 div.sk-dashed-wrapped {border: 1px dashed gray;margin: 0 0.4em 0.5em 0.4em;box-sizing: border-box;padding-bottom: 0.4em;background-color: white;}#sk-container-id-10 div.sk-label label {font-family: monospace;font-weight: bold;display: inline-block;line-height: 1.2em;}#sk-container-id-10 div.sk-label-container {text-align: center;}#sk-container-id-10 div.sk-container {/* jupyter's `normalize.less` sets `[hidden] { display: none; }` but bootstrap.min.css set `[hidden] { display: none !important; }` so we also need the `!important` here to be able to override the default hidden behavior on the sphinx rendered scikit-learn.org. See: https://github.com/scikit-learn/scikit-learn/issues/21755 */display: inline-block !important;position: relative;}#sk-container-id-10 div.sk-text-repr-fallback {display: none;}</style><div id=\"sk-container-id-10\" class=\"sk-top-container\"><div class=\"sk-text-repr-fallback\"><pre>RandomForestRegressor(criterion=&#x27;mse&#x27;, max_features=8, n_estimators=30)</pre><b>In a Jupyter environment, please rerun this cell to show the HTML representation or trust the notebook. <br />On GitHub, the HTML representation is unable to render, please try loading this page with nbviewer.org.</b></div><div class=\"sk-container\" hidden><div class=\"sk-item\"><div class=\"sk-estimator sk-toggleable\"><input class=\"sk-toggleable__control sk-hidden--visually\" id=\"sk-estimator-id-20\" type=\"checkbox\" checked><label for=\"sk-estimator-id-20\" class=\"sk-toggleable__label sk-toggleable__label-arrow\">RandomForestRegressor</label><div class=\"sk-toggleable__content\"><pre>RandomForestRegressor(criterion=&#x27;mse&#x27;, max_features=8, n_estimators=30)</pre></div></div></div></div></div>"
      ],
      "text/plain": [
       "RandomForestRegressor(criterion='mse', max_features=8, n_estimators=30)"
      ]
     },
     "execution_count": 124,
     "metadata": {},
     "output_type": "execute_result"
    }
   ],
   "source": [
    "grid_search.best_estimator_\n",
    "RandomForestRegressor(bootstrap=True, criterion='mse', max_depth=None,\n",
    " max_features=8, max_leaf_nodes=None, min_impurity_decrease=0.0,\n",
    " min_samples_leaf=1,\n",
    " min_samples_split=2, min_weight_fraction_leaf=0.0,\n",
    " n_estimators=30, n_jobs=None, oob_score=False, random_state=None,\n",
    " verbose=0, warm_start=False)"
   ]
  },
  {
   "cell_type": "markdown",
   "metadata": {},
   "source": [
    "The code shows the results of the `cross-validated` mean squared error (MSE) for different hyperparameter combinations during the `GridSearchCV` process. The hyperparameters being tuned are `'max_features'` and `'n_estimators'` for the `RandomForestRegressor`.\n",
    "\n",
    "The output consists of pairs of the square root of the negative mean squared error (RMSE) and the corresponding hyperparameter values. The lower the RMSE value, the better the performance of the model on the `cross-validated` data.\n",
    "\n",
    "Here's a breakdown of the results:\n",
    "\n",
    "-   RMSE: 0.0604, Parameters: {'max_features': 2, 'n_estimators': 3}\n",
    "-   RMSE: 0.0598, Parameters: {'max_features': 2, 'n_estimators': 10}\n",
    "-   RMSE: 0.0596, Parameters: {'max_features': 2, 'n_estimators': 30}\n",
    "-   RMSE: 0.0604, Parameters: {'max_features': 4, 'n_estimators': 3}\n",
    "-   RMSE: 0.0598, Parameters: {'max_features': 4, 'n_estimators': 10}\n",
    "-   **RMSE: 0.0596, Parameters: {'max_features': 4, 'n_estimators': 30}**\n",
    "-   RMSE: 0.0604, Parameters: {'max_features': 6, 'n_estimators': 3}\n",
    "-   RMSE: 0.0598, Parameters: {'max_features': 6, 'n_estimators': 10}\n",
    "-   RMSE: 0.0596, Parameters: {'max_features': 6, 'n_estimators': 30}\n",
    "-   RMSE: 0.0604, Parameters: {'max_features': 8, 'n_estimators': 3}\n",
    "-   RMSE: 0.0598, Parameters: {'max_features': 8, 'n_estimators': 10}\n",
    "-   RMSE: 0.0596, Parameters: {'max_features': 8, 'n_estimators': 30}\n",
    "-   RMSE: 0.0595, Parameters: {'bootstrap': False, 'max_features': 2, 'n_estimators': 3}\n",
    "-   RMSE: 0.0595, Parameters: {'bootstrap': False, 'max_features': 2, 'n_estimators': 10}\n",
    "-   RMSE: 0.0595, Parameters: {'bootstrap': False, 'max_features': 3, 'n_estimators': 3}\n",
    "-   RMSE: 0.0595, Parameters: {'bootstrap': False, 'max_features': 3, 'n_estimators': 10}\n",
    "-   RMSE: 0.0595, Parameters: {'bootstrap': False, 'max_features': 4, 'n_estimators': 3}\n",
    "-   RMSE: 0.0595, Parameters: {'bootstrap': False, 'max_features': 4, 'n_estimators': 10}\n",
    "\n",
    "Based on these results, the combination with the lowest RMSE is achieved when `'max_features'` is **4** and `'n_estimators'` is **30**, with an RMSE of **0.0596**."
   ]
  },
  {
   "cell_type": "code",
   "execution_count": 125,
   "metadata": {},
   "outputs": [
    {
     "name": "stdout",
     "output_type": "stream",
     "text": [
      "0.06038318295665032 {'max_features': 2, 'n_estimators': 3}\n",
      "0.059783011029334254 {'max_features': 2, 'n_estimators': 10}\n",
      "0.05962047035857753 {'max_features': 2, 'n_estimators': 30}\n",
      "0.06038318295665032 {'max_features': 4, 'n_estimators': 3}\n",
      "0.05978301102933425 {'max_features': 4, 'n_estimators': 10}\n",
      "0.059620470358577524 {'max_features': 4, 'n_estimators': 30}\n",
      "0.06038318295665032 {'max_features': 6, 'n_estimators': 3}\n",
      "0.05978301102933426 {'max_features': 6, 'n_estimators': 10}\n",
      "0.05962047035857753 {'max_features': 6, 'n_estimators': 30}\n",
      "0.060383182956650315 {'max_features': 8, 'n_estimators': 3}\n",
      "0.05978301102933425 {'max_features': 8, 'n_estimators': 10}\n",
      "0.059620470358577524 {'max_features': 8, 'n_estimators': 30}\n",
      "0.05952917885332864 {'bootstrap': False, 'max_features': 2, 'n_estimators': 3}\n",
      "0.05952917885332864 {'bootstrap': False, 'max_features': 2, 'n_estimators': 10}\n",
      "0.059529178853328646 {'bootstrap': False, 'max_features': 3, 'n_estimators': 3}\n",
      "0.05952917885332864 {'bootstrap': False, 'max_features': 3, 'n_estimators': 10}\n",
      "0.05952917885332864 {'bootstrap': False, 'max_features': 4, 'n_estimators': 3}\n",
      "0.05952917885332864 {'bootstrap': False, 'max_features': 4, 'n_estimators': 10}\n"
     ]
    }
   ],
   "source": [
    "cvres = grid_search.cv_results_\n",
    "\n",
    "for mean_score, params in zip(cvres[\"mean_test_score\"], cvres[\"params\"]):\n",
    " print(np.sqrt(-mean_score), params)"
   ]
  },
  {
   "cell_type": "markdown",
   "metadata": {},
   "source": [
    "The code calculates and displays the feature importances of the best estimator from the `GridSearchCV` process using the `RandomForestRegressor`. The feature importances represent the relative importance of each feature in predicting the **target variable** *(Euribor value)*.\n",
    "\n",
    "Here's a breakdown of the feature importances for each feature:\n",
    "\n",
    "-   Feature 0: 0.21%\n",
    "-   Feature 1: 1.30%\n",
    "-   Feature 2: 10.38%\n",
    "-   Feature 3: 19.90%\n",
    "-   Feature 4: 3.45%\n",
    "-   Feature 5: 2.09%\n",
    "-   Feature 6: 0.37%\n",
    "-   Feature 7: 8.60%\n",
    "-   Feature 8: 1.83%\n",
    "-   Feature 9: 0.47%\n",
    "-   Feature 10: 0.15%\n",
    "-   Feature 11: 5.84%\n",
    "-   **Feature 12: 42.47%**\n",
    "-   Feature 13: 2.94%\n",
    "\n",
    "The feature importances are represented as percentages, and each value indicates the proportion of the total predictive **power** of the model attributed to that specific feature. Feature **12** (index-based, zero-indexed) has the highest importance at **42.47%**, indicating that it is the most influential feature in predicting the Euribor value. On the other hand, features 0, 1, 6, 9, and 10 have relatively low importances, suggesting they have less impact on the target variable."
   ]
  },
  {
   "cell_type": "code",
   "execution_count": 126,
   "metadata": {},
   "outputs": [
    {
     "data": {
      "text/plain": [
       "array([0.00211311, 0.01301112, 0.10380125, 0.19903421, 0.03446077,\n",
       "       0.02092174, 0.00373909, 0.0860197 , 0.01834858, 0.00469069,\n",
       "       0.00146304, 0.05835272, 0.42465264, 0.02939135])"
      ]
     },
     "execution_count": 126,
     "metadata": {},
     "output_type": "execute_result"
    }
   ],
   "source": [
    "feature_importances = grid_search.best_estimator_.feature_importances_\n",
    "feature_importances"
   ]
  },
  {
   "cell_type": "markdown",
   "metadata": {},
   "source": [
    "The code calculates and displays the feature importances along with their corresponding attribute names. The feature importances represent the relative importance of each attribute in predicting the **target variable** *(Euribor value)*. The list is sorted in descending order, showing the most important attributes first.\n",
    "\n",
    "Here's the breakdown of the top attributes and their corresponding feature importances:\n",
    "\n",
    "-   **Attribute: \"unemployment_lag3\", Feature Importance: 42.47%**\n",
    "-   Attribute: \"gdp_value\", Feature Importance: 19.90%\n",
    "-   Attribute: \"unemployment_lag3\", Feature Importance: 10.38%\n",
    "-   Attribute: \"inflation_lag1\", Feature Importance: 8.60%\n",
    "-   Attribute: \"unemployment_lag2\", Feature Importance: 5.84%\n",
    "-   Attribute: \"gdp_lag1\", Feature Importance: 3.45%\n",
    "-   Attribute: \"gdp_lag2\", Feature Importance: 2.09%\n",
    "-   Attribute: \"inflation_lag2\", Feature Importance: 1.83%\n",
    "-   Attribute: \"inflation_inflation_rate\", Feature Importance: 1.30%\n",
    "-   Attribute: \"inflation_lag3\", Feature Importance: 0.47%\n",
    "-   Attribute: \"gdp_lag3\", Feature Importance: 0.37%\n",
    "-   Attribute: \"value\", Feature Importance: 0.21%\n",
    "-   Attribute: \"unemployment_lag1\", Feature Importance: 0.15%\n",
    "\n",
    "The results show the attributes that have the most significant impact on predicting the **Euribor value**. *\"unemployment_lag3\"* is the most important attribute with a feature importance of **42.47%**, followed by *\"gdp_value\"* with **19.90%** importance, and *\"unemployment_lag3\"* with **10.38%** importance. The remaining attributes contribute to the model but have relatively lower feature importances compared to the top attributes"
   ]
  },
  {
   "cell_type": "code",
   "execution_count": 127,
   "metadata": {},
   "outputs": [],
   "source": [
    "attributes = [\"value\", \"inflation_inflation_rate\", \"unemployment_lag3\",\n",
    " \"gdp_value\"]"
   ]
  },
  {
   "cell_type": "code",
   "execution_count": 128,
   "metadata": {},
   "outputs": [
    {
     "data": {
      "text/plain": [
       "[(0.42465263996948766, 'unemployment_lag3'),\n",
       " (0.19903421008724873, 'gdp_value'),\n",
       " (0.10380125088117827, 'unemployment_lag3'),\n",
       " (0.08601970314969119, 'inflation_lag1'),\n",
       " (0.058352720891486076, 'unemployment_lag2'),\n",
       " (0.0344607660503948, 'gdp_lag1'),\n",
       " (0.02092173610843979, 'gdp_lag2'),\n",
       " (0.018348577618971334, 'inflation_lag2'),\n",
       " (0.013011118271336384, 'inflation_inflation_rate'),\n",
       " (0.004690690000130455, 'inflation_lag3'),\n",
       " (0.003739087388066315, 'gdp_lag3'),\n",
       " (0.0021131095561324246, 'value'),\n",
       " (0.0014630387548496254, 'unemployment_lag1')]"
      ]
     },
     "execution_count": 128,
     "metadata": {},
     "output_type": "execute_result"
    }
   ],
   "source": [
    "extra_attribs = ['gdp_lag1', 'gdp_lag2', 'gdp_lag3', 'inflation_lag1', 'inflation_lag2', 'inflation_lag3', 'unemployment_lag1', 'unemployment_lag2', 'unemployment_lag3']\n",
    "attributes = attributes + extra_attribs\n",
    "\n",
    "sorted(zip(feature_importances, attributes), reverse=True)"
   ]
  },
  {
   "cell_type": "markdown",
   "metadata": {},
   "source": [
    "The final trained model from the grid search (`grid_search.best_estimator_`) is used to make predictions on the test set (`X_test`), and then the root mean squared error (RMSE) is calculated to evaluate the model's performance.\n",
    "\n",
    "The final model obtained from the grid search, which is the best-performing `RandomForestRegressor`, is stored in the \"`final_model`\" variable.\n",
    "\n",
    "The test set features (`X_test`) are prepared by removing the \"*value*\" and \"*date*\" columns, as the **target variable** (*Euribor value*) and date are not needed for prediction.\n",
    "\n",
    "The **target variable** for the test set (`y_test`) is stored in the \"*y_test*\" variable.\n",
    "\n",
    "The \"`final_model`\" is used to make predictions on the test set features, and the predicted values are stored in the \"`final_predictions`\" variable.\n",
    "\n",
    "The mean squared error (MSE) between the actual target values (`y_test`) and the *predicted values* (`final_predictions`) is calculated using \"`mean_squared_error`\" from `sklearn.metrics`.\n",
    "\n",
    "The final RMSE is obtained by taking the square root of the MSE, which gives a more interpretable metric for the model's prediction error.\n",
    "\n",
    "The final RMSE value is approximately **0.0688**, which indicates the average prediction error of the model on the test set. A lower RMSE value suggests better model performance, meaning that the model's predictions are closer to the actual **Euribor** values in the test set."
   ]
  },
  {
   "cell_type": "code",
   "execution_count": 129,
   "metadata": {},
   "outputs": [
    {
     "data": {
      "text/plain": [
       "0.06875552986683618"
      ]
     },
     "execution_count": 129,
     "metadata": {},
     "output_type": "execute_result"
    }
   ],
   "source": [
    "from sklearn.metrics import mean_squared_error\n",
    "\n",
    "final_model = grid_search.best_estimator_\n",
    "X_test = strat_test_set.drop([\"value\", \"date\"], axis=1)\n",
    "y_test = strat_test_set[\"value\"].copy()\n",
    "final_predictions = final_model.predict(X_test)\n",
    "final_mse = mean_squared_error(y_test, final_predictions)\n",
    "final_rmse = np.sqrt(final_mse)\n",
    "\n",
    "final_rmse"
   ]
  },
  {
   "cell_type": "markdown",
   "metadata": {},
   "source": [
    "A `RandomForestRegressor` model is trained on the \"**euribor**\" dataset, which contains the features (*predictors*) used to predict the **target variable** \"`euribor_labels`\" (*Euribor values*).\n",
    "\n",
    "Here's a breakdown of the steps and the results:\n",
    "\n",
    "A `RandomForestRegressor` model is instantiated and stored in the \"`forest_reg`\" variable.\n",
    "\n",
    "The model is trained on the \"**euribor**\" dataset using the \"`fit`\" method. The features (*predictors*) in \"**euribor**\" are used to predict the **target variable** \"`euribor_labels`\" (*Euribor values*).\n",
    "\n",
    "To evaluate the model's performance, `cross-validation` is performed using the \"`cross_val_score`\" function from `sklearn.model_selection`. The \"`neg_mean_squared_error`\" scoring metric is used, which means that the negative of the mean squared error (MSE) is calculated during `cross-validation`.\n",
    "\n",
    "The \"`cross_val_score`\" function returns an array of negative mean squared error scores for each fold of the `cross-validation`. To obtain the root mean squared error (RMSE), the negative values are squared and then the square root is taken (using \"`np.sqrt(-forest_rmse_scores)`\").\n",
    "\n",
    "The final RMSE scores for each fold are stored in the \"`forest_rmse`\" variable.\n",
    "\n",
    "The \"`display_scores`\" function is used to print the individual fold scores, as well as the mean and standard deviation of the RMSE scores.\n",
    "\n",
    "The output shows the RMSE scores for each fold of the `cross-validation`, as well as the mean and standard deviation of the RMSE scores. The mean RMSE is approximately **0.00352**, indicating the average prediction error of the model on the `cross-validated` data. The lower the RMSE, the better the model's predictions align with the actual **Euribor values**."
   ]
  },
  {
   "cell_type": "code",
   "execution_count": 130,
   "metadata": {},
   "outputs": [
    {
     "name": "stdout",
     "output_type": "stream",
     "text": [
      "Scores: [-0.00240965 -0.00689155 -0.00221071 -0.00308241 -0.00319996 -0.00390692\n",
      " -0.00545793 -0.00303168 -0.00251324 -0.00254145]\n",
      "Mean: -0.0035245495294173807\n",
      "Standard deviation: 0.0014395484133933635\n"
     ]
    }
   ],
   "source": [
    "from sklearn.ensemble import RandomForestRegressor\n",
    "\n",
    "forest_reg = RandomForestRegressor()\n",
    "forest_reg.fit(euribor, euribor_labels)\n",
    "\n",
    "forest_rmse_scores = cross_val_score(forest_reg, euribor, euribor_labels,\n",
    " scoring=\"neg_mean_squared_error\", cv=10)\n",
    "forest_rmse = np.sqrt(-forest_rmse_scores)\n",
    "\n",
    "forest_rmse\n",
    "\n",
    "display_scores(forest_rmse_scores)"
   ]
  },
  {
   "cell_type": "code",
   "execution_count": 131,
   "metadata": {},
   "outputs": [
    {
     "data": {
      "text/html": [
       "<style>#sk-container-id-11 {color: black;background-color: white;}#sk-container-id-11 pre{padding: 0;}#sk-container-id-11 div.sk-toggleable {background-color: white;}#sk-container-id-11 label.sk-toggleable__label {cursor: pointer;display: block;width: 100%;margin-bottom: 0;padding: 0.3em;box-sizing: border-box;text-align: center;}#sk-container-id-11 label.sk-toggleable__label-arrow:before {content: \"▸\";float: left;margin-right: 0.25em;color: #696969;}#sk-container-id-11 label.sk-toggleable__label-arrow:hover:before {color: black;}#sk-container-id-11 div.sk-estimator:hover label.sk-toggleable__label-arrow:before {color: black;}#sk-container-id-11 div.sk-toggleable__content {max-height: 0;max-width: 0;overflow: hidden;text-align: left;background-color: #f0f8ff;}#sk-container-id-11 div.sk-toggleable__content pre {margin: 0.2em;color: black;border-radius: 0.25em;background-color: #f0f8ff;}#sk-container-id-11 input.sk-toggleable__control:checked~div.sk-toggleable__content {max-height: 200px;max-width: 100%;overflow: auto;}#sk-container-id-11 input.sk-toggleable__control:checked~label.sk-toggleable__label-arrow:before {content: \"▾\";}#sk-container-id-11 div.sk-estimator input.sk-toggleable__control:checked~label.sk-toggleable__label {background-color: #d4ebff;}#sk-container-id-11 div.sk-label input.sk-toggleable__control:checked~label.sk-toggleable__label {background-color: #d4ebff;}#sk-container-id-11 input.sk-hidden--visually {border: 0;clip: rect(1px 1px 1px 1px);clip: rect(1px, 1px, 1px, 1px);height: 1px;margin: -1px;overflow: hidden;padding: 0;position: absolute;width: 1px;}#sk-container-id-11 div.sk-estimator {font-family: monospace;background-color: #f0f8ff;border: 1px dotted black;border-radius: 0.25em;box-sizing: border-box;margin-bottom: 0.5em;}#sk-container-id-11 div.sk-estimator:hover {background-color: #d4ebff;}#sk-container-id-11 div.sk-parallel-item::after {content: \"\";width: 100%;border-bottom: 1px solid gray;flex-grow: 1;}#sk-container-id-11 div.sk-label:hover label.sk-toggleable__label {background-color: #d4ebff;}#sk-container-id-11 div.sk-serial::before {content: \"\";position: absolute;border-left: 1px solid gray;box-sizing: border-box;top: 0;bottom: 0;left: 50%;z-index: 0;}#sk-container-id-11 div.sk-serial {display: flex;flex-direction: column;align-items: center;background-color: white;padding-right: 0.2em;padding-left: 0.2em;position: relative;}#sk-container-id-11 div.sk-item {position: relative;z-index: 1;}#sk-container-id-11 div.sk-parallel {display: flex;align-items: stretch;justify-content: center;background-color: white;position: relative;}#sk-container-id-11 div.sk-item::before, #sk-container-id-11 div.sk-parallel-item::before {content: \"\";position: absolute;border-left: 1px solid gray;box-sizing: border-box;top: 0;bottom: 0;left: 50%;z-index: -1;}#sk-container-id-11 div.sk-parallel-item {display: flex;flex-direction: column;z-index: 1;position: relative;background-color: white;}#sk-container-id-11 div.sk-parallel-item:first-child::after {align-self: flex-end;width: 50%;}#sk-container-id-11 div.sk-parallel-item:last-child::after {align-self: flex-start;width: 50%;}#sk-container-id-11 div.sk-parallel-item:only-child::after {width: 0;}#sk-container-id-11 div.sk-dashed-wrapped {border: 1px dashed gray;margin: 0 0.4em 0.5em 0.4em;box-sizing: border-box;padding-bottom: 0.4em;background-color: white;}#sk-container-id-11 div.sk-label label {font-family: monospace;font-weight: bold;display: inline-block;line-height: 1.2em;}#sk-container-id-11 div.sk-label-container {text-align: center;}#sk-container-id-11 div.sk-container {/* jupyter's `normalize.less` sets `[hidden] { display: none; }` but bootstrap.min.css set `[hidden] { display: none !important; }` so we also need the `!important` here to be able to override the default hidden behavior on the sphinx rendered scikit-learn.org. See: https://github.com/scikit-learn/scikit-learn/issues/21755 */display: inline-block !important;position: relative;}#sk-container-id-11 div.sk-text-repr-fallback {display: none;}</style><div id=\"sk-container-id-11\" class=\"sk-top-container\"><div class=\"sk-text-repr-fallback\"><pre>GridSearchCV(cv=5, estimator=RandomForestRegressor(random_state=42),\n",
       "             param_grid=[{&#x27;max_features&#x27;: [2, 4, 6, 8],\n",
       "                          &#x27;n_estimators&#x27;: [3, 10, 30]},\n",
       "                         {&#x27;bootstrap&#x27;: [False], &#x27;max_features&#x27;: [2, 3, 4],\n",
       "                          &#x27;n_estimators&#x27;: [3, 10]}],\n",
       "             return_train_score=True, scoring=&#x27;neg_mean_squared_error&#x27;)</pre><b>In a Jupyter environment, please rerun this cell to show the HTML representation or trust the notebook. <br />On GitHub, the HTML representation is unable to render, please try loading this page with nbviewer.org.</b></div><div class=\"sk-container\" hidden><div class=\"sk-item sk-dashed-wrapped\"><div class=\"sk-label-container\"><div class=\"sk-label sk-toggleable\"><input class=\"sk-toggleable__control sk-hidden--visually\" id=\"sk-estimator-id-21\" type=\"checkbox\" ><label for=\"sk-estimator-id-21\" class=\"sk-toggleable__label sk-toggleable__label-arrow\">GridSearchCV</label><div class=\"sk-toggleable__content\"><pre>GridSearchCV(cv=5, estimator=RandomForestRegressor(random_state=42),\n",
       "             param_grid=[{&#x27;max_features&#x27;: [2, 4, 6, 8],\n",
       "                          &#x27;n_estimators&#x27;: [3, 10, 30]},\n",
       "                         {&#x27;bootstrap&#x27;: [False], &#x27;max_features&#x27;: [2, 3, 4],\n",
       "                          &#x27;n_estimators&#x27;: [3, 10]}],\n",
       "             return_train_score=True, scoring=&#x27;neg_mean_squared_error&#x27;)</pre></div></div></div><div class=\"sk-parallel\"><div class=\"sk-parallel-item\"><div class=\"sk-item\"><div class=\"sk-label-container\"><div class=\"sk-label sk-toggleable\"><input class=\"sk-toggleable__control sk-hidden--visually\" id=\"sk-estimator-id-22\" type=\"checkbox\" ><label for=\"sk-estimator-id-22\" class=\"sk-toggleable__label sk-toggleable__label-arrow\">estimator: RandomForestRegressor</label><div class=\"sk-toggleable__content\"><pre>RandomForestRegressor(random_state=42)</pre></div></div></div><div class=\"sk-serial\"><div class=\"sk-item\"><div class=\"sk-estimator sk-toggleable\"><input class=\"sk-toggleable__control sk-hidden--visually\" id=\"sk-estimator-id-23\" type=\"checkbox\" ><label for=\"sk-estimator-id-23\" class=\"sk-toggleable__label sk-toggleable__label-arrow\">RandomForestRegressor</label><div class=\"sk-toggleable__content\"><pre>RandomForestRegressor(random_state=42)</pre></div></div></div></div></div></div></div></div></div></div>"
      ],
      "text/plain": [
       "GridSearchCV(cv=5, estimator=RandomForestRegressor(random_state=42),\n",
       "             param_grid=[{'max_features': [2, 4, 6, 8],\n",
       "                          'n_estimators': [3, 10, 30]},\n",
       "                         {'bootstrap': [False], 'max_features': [2, 3, 4],\n",
       "                          'n_estimators': [3, 10]}],\n",
       "             return_train_score=True, scoring='neg_mean_squared_error')"
      ]
     },
     "execution_count": 131,
     "metadata": {},
     "output_type": "execute_result"
    }
   ],
   "source": [
    "from sklearn.model_selection import GridSearchCV\n",
    "\n",
    "param_grid = [\n",
    " {'n_estimators': [3, 10, 30], 'max_features': [2, 4, 6, 8]},\n",
    " {'bootstrap': [False], 'n_estimators': [3, 10], 'max_features': [2, 3, 4]},\n",
    " ]\n",
    "forest_reg = RandomForestRegressor(random_state=42)\n",
    "grid_search = GridSearchCV(forest_reg, param_grid, cv=5,\n",
    " scoring='neg_mean_squared_error',\n",
    "return_train_score=True)\n",
    "grid_search.fit(euribor, euribor_labels)"
   ]
  },
  {
   "cell_type": "code",
   "execution_count": 132,
   "metadata": {},
   "outputs": [
    {
     "data": {
      "text/plain": [
       "{'max_features': 4, 'n_estimators': 10}"
      ]
     },
     "execution_count": 132,
     "metadata": {},
     "output_type": "execute_result"
    }
   ],
   "source": [
    "grid_search.best_params_"
   ]
  },
  {
   "cell_type": "code",
   "execution_count": 133,
   "metadata": {},
   "outputs": [
    {
     "data": {
      "text/html": [
       "<style>#sk-container-id-12 {color: black;background-color: white;}#sk-container-id-12 pre{padding: 0;}#sk-container-id-12 div.sk-toggleable {background-color: white;}#sk-container-id-12 label.sk-toggleable__label {cursor: pointer;display: block;width: 100%;margin-bottom: 0;padding: 0.3em;box-sizing: border-box;text-align: center;}#sk-container-id-12 label.sk-toggleable__label-arrow:before {content: \"▸\";float: left;margin-right: 0.25em;color: #696969;}#sk-container-id-12 label.sk-toggleable__label-arrow:hover:before {color: black;}#sk-container-id-12 div.sk-estimator:hover label.sk-toggleable__label-arrow:before {color: black;}#sk-container-id-12 div.sk-toggleable__content {max-height: 0;max-width: 0;overflow: hidden;text-align: left;background-color: #f0f8ff;}#sk-container-id-12 div.sk-toggleable__content pre {margin: 0.2em;color: black;border-radius: 0.25em;background-color: #f0f8ff;}#sk-container-id-12 input.sk-toggleable__control:checked~div.sk-toggleable__content {max-height: 200px;max-width: 100%;overflow: auto;}#sk-container-id-12 input.sk-toggleable__control:checked~label.sk-toggleable__label-arrow:before {content: \"▾\";}#sk-container-id-12 div.sk-estimator input.sk-toggleable__control:checked~label.sk-toggleable__label {background-color: #d4ebff;}#sk-container-id-12 div.sk-label input.sk-toggleable__control:checked~label.sk-toggleable__label {background-color: #d4ebff;}#sk-container-id-12 input.sk-hidden--visually {border: 0;clip: rect(1px 1px 1px 1px);clip: rect(1px, 1px, 1px, 1px);height: 1px;margin: -1px;overflow: hidden;padding: 0;position: absolute;width: 1px;}#sk-container-id-12 div.sk-estimator {font-family: monospace;background-color: #f0f8ff;border: 1px dotted black;border-radius: 0.25em;box-sizing: border-box;margin-bottom: 0.5em;}#sk-container-id-12 div.sk-estimator:hover {background-color: #d4ebff;}#sk-container-id-12 div.sk-parallel-item::after {content: \"\";width: 100%;border-bottom: 1px solid gray;flex-grow: 1;}#sk-container-id-12 div.sk-label:hover label.sk-toggleable__label {background-color: #d4ebff;}#sk-container-id-12 div.sk-serial::before {content: \"\";position: absolute;border-left: 1px solid gray;box-sizing: border-box;top: 0;bottom: 0;left: 50%;z-index: 0;}#sk-container-id-12 div.sk-serial {display: flex;flex-direction: column;align-items: center;background-color: white;padding-right: 0.2em;padding-left: 0.2em;position: relative;}#sk-container-id-12 div.sk-item {position: relative;z-index: 1;}#sk-container-id-12 div.sk-parallel {display: flex;align-items: stretch;justify-content: center;background-color: white;position: relative;}#sk-container-id-12 div.sk-item::before, #sk-container-id-12 div.sk-parallel-item::before {content: \"\";position: absolute;border-left: 1px solid gray;box-sizing: border-box;top: 0;bottom: 0;left: 50%;z-index: -1;}#sk-container-id-12 div.sk-parallel-item {display: flex;flex-direction: column;z-index: 1;position: relative;background-color: white;}#sk-container-id-12 div.sk-parallel-item:first-child::after {align-self: flex-end;width: 50%;}#sk-container-id-12 div.sk-parallel-item:last-child::after {align-self: flex-start;width: 50%;}#sk-container-id-12 div.sk-parallel-item:only-child::after {width: 0;}#sk-container-id-12 div.sk-dashed-wrapped {border: 1px dashed gray;margin: 0 0.4em 0.5em 0.4em;box-sizing: border-box;padding-bottom: 0.4em;background-color: white;}#sk-container-id-12 div.sk-label label {font-family: monospace;font-weight: bold;display: inline-block;line-height: 1.2em;}#sk-container-id-12 div.sk-label-container {text-align: center;}#sk-container-id-12 div.sk-container {/* jupyter's `normalize.less` sets `[hidden] { display: none; }` but bootstrap.min.css set `[hidden] { display: none !important; }` so we also need the `!important` here to be able to override the default hidden behavior on the sphinx rendered scikit-learn.org. See: https://github.com/scikit-learn/scikit-learn/issues/21755 */display: inline-block !important;position: relative;}#sk-container-id-12 div.sk-text-repr-fallback {display: none;}</style><div id=\"sk-container-id-12\" class=\"sk-top-container\"><div class=\"sk-text-repr-fallback\"><pre>RandomForestRegressor(criterion=&#x27;mse&#x27;, max_features=8, n_estimators=30)</pre><b>In a Jupyter environment, please rerun this cell to show the HTML representation or trust the notebook. <br />On GitHub, the HTML representation is unable to render, please try loading this page with nbviewer.org.</b></div><div class=\"sk-container\" hidden><div class=\"sk-item\"><div class=\"sk-estimator sk-toggleable\"><input class=\"sk-toggleable__control sk-hidden--visually\" id=\"sk-estimator-id-24\" type=\"checkbox\" checked><label for=\"sk-estimator-id-24\" class=\"sk-toggleable__label sk-toggleable__label-arrow\">RandomForestRegressor</label><div class=\"sk-toggleable__content\"><pre>RandomForestRegressor(criterion=&#x27;mse&#x27;, max_features=8, n_estimators=30)</pre></div></div></div></div></div>"
      ],
      "text/plain": [
       "RandomForestRegressor(criterion='mse', max_features=8, n_estimators=30)"
      ]
     },
     "execution_count": 133,
     "metadata": {},
     "output_type": "execute_result"
    }
   ],
   "source": [
    "grid_search.best_estimator_\n",
    "RandomForestRegressor(bootstrap=True, criterion='mse', max_depth=None,\n",
    " max_features=8, max_leaf_nodes=None, min_impurity_decrease=0.0,\n",
    " min_samples_leaf=1,\n",
    " min_samples_split=2, min_weight_fraction_leaf=0.0,\n",
    " n_estimators=30, n_jobs=None, oob_score=False, random_state=None,\n",
    " verbose=0, warm_start=False)"
   ]
  },
  {
   "cell_type": "code",
   "execution_count": 134,
   "metadata": {},
   "outputs": [
    {
     "name": "stdout",
     "output_type": "stream",
     "text": [
      "0.060004214815642394 {'max_features': 2, 'n_estimators': 3}\n",
      "0.059473794646768906 {'max_features': 2, 'n_estimators': 10}\n",
      "0.05960374320516816 {'max_features': 2, 'n_estimators': 30}\n",
      "0.06000421481564241 {'max_features': 4, 'n_estimators': 3}\n",
      "0.05947379464676889 {'max_features': 4, 'n_estimators': 10}\n",
      "0.05960374320516816 {'max_features': 4, 'n_estimators': 30}\n",
      "0.060004214815642394 {'max_features': 6, 'n_estimators': 3}\n",
      "0.0594737946467689 {'max_features': 6, 'n_estimators': 10}\n",
      "0.05958633670344558 {'max_features': 6, 'n_estimators': 30}\n",
      "0.0600042148156424 {'max_features': 8, 'n_estimators': 3}\n",
      "0.059473794646768906 {'max_features': 8, 'n_estimators': 10}\n",
      "0.05960374320516818 {'max_features': 8, 'n_estimators': 30}\n",
      "0.05952917885332863 {'bootstrap': False, 'max_features': 2, 'n_estimators': 3}\n",
      "0.05952917885332863 {'bootstrap': False, 'max_features': 2, 'n_estimators': 10}\n",
      "0.05952917885332863 {'bootstrap': False, 'max_features': 3, 'n_estimators': 3}\n",
      "0.059529178853328625 {'bootstrap': False, 'max_features': 3, 'n_estimators': 10}\n",
      "0.05952917885332863 {'bootstrap': False, 'max_features': 4, 'n_estimators': 3}\n",
      "0.05952917885332864 {'bootstrap': False, 'max_features': 4, 'n_estimators': 10}\n"
     ]
    }
   ],
   "source": [
    "cvres = grid_search.cv_results_\n",
    "\n",
    "for mean_score, params in zip(cvres[\"mean_test_score\"], cvres[\"params\"]):\n",
    " print(np.sqrt(-mean_score), params)"
   ]
  },
  {
   "cell_type": "code",
   "execution_count": 135,
   "metadata": {},
   "outputs": [
    {
     "data": {
      "text/plain": [
       "array([0.0925324 , 0.03505055, 0.0085458 , 0.03258165, 0.2336851 ,\n",
       "       0.00357807, 0.06920177, 0.02471808, 0.01318648, 0.01187186,\n",
       "       0.00318405, 0.204211  , 0.24141632, 0.02623686])"
      ]
     },
     "execution_count": 135,
     "metadata": {},
     "output_type": "execute_result"
    }
   ],
   "source": [
    "feature_importances = grid_search.best_estimator_.feature_importances_\n",
    "feature_importances"
   ]
  },
  {
   "cell_type": "code",
   "execution_count": 136,
   "metadata": {},
   "outputs": [
    {
     "data": {
      "text/plain": [
       "[(0.24141632356823267, 'unemployment_lag3'),\n",
       " (0.2336850974626205, 'gdp_lag1'),\n",
       " (0.20421099832230577, 'unemployment_lag2'),\n",
       " (0.09253240255042978, 'value'),\n",
       " (0.06920176956696941, 'gdp_lag3'),\n",
       " (0.03505055107186674, 'inflation_inflation_rate'),\n",
       " (0.032581651693378615, 'gdp_value'),\n",
       " (0.026236855075528052, 'gdp_lag1'),\n",
       " (0.024718078156222366, 'inflation_lag1'),\n",
       " (0.013186483735206011, 'inflation_lag2'),\n",
       " (0.011871864218161375, 'inflation_lag3'),\n",
       " (0.008545803638921361, 'unemployment_lag3'),\n",
       " (0.0035780682062930905, 'gdp_lag2'),\n",
       " (0.0031840527338641857, 'unemployment_lag1')]"
      ]
     },
     "execution_count": 136,
     "metadata": {},
     "output_type": "execute_result"
    }
   ],
   "source": [
    "extra_attribs = ['gdp_lag1', 'gdp_lag2', 'gdp_lag3', 'inflation_lag1', 'inflation_lag2', 'inflation_lag3', 'unemployment_lag1', 'unemployment_lag2', 'unemployment_lag3']\n",
    "attributes = attributes + extra_attribs\n",
    "\n",
    "sorted(zip(feature_importances, attributes), reverse=True)"
   ]
  },
  {
   "cell_type": "markdown",
   "metadata": {},
   "source": [
    "The best estimator from the grid search (stored in \"`grid_search.best_estimator_`\") is used to make predictions on the test set.\n",
    "\n",
    "The best estimator found from the grid search, which is the `RandomForestRegressor` model with the hyperparameters that performed the best during `cross-validation`, is stored in the \"`final_model`\" variable.\n",
    "\n",
    "The test set features (*predictors*) are stored in the \"`X_test`\" variable. The \"*date*\" and \"*value*\" columns are dropped from the test set using the \"`drop`\" method with \"`axis=1`\" to indicate column-wise removal.\n",
    "\n",
    "The test set **target variable** \"*value*\" is copied to the \"`y_test`\" variable.\n",
    "\n",
    "The \"`final_model`\" is used to make predictions on the test set features, and the **predicted values** are stored in the \"`final_predictions`\" variable.\n",
    "\n",
    "The mean squared error (MSE) is calculated by comparing the actual **target values** (\"`y_test`\") with the **predicted values** (\"`final_predictions`\") using the \"`mean_squared_error`\" function from `sklearn.metrics`.\n",
    "\n",
    "The mean squared error is then used to calculate the root mean squared error (RMSE) by taking the square root of the MSE using \"`np.sqrt(final_mse)`\".\n",
    "\n",
    "The final RMSE value is approximately **0.0684**, which represents the average prediction error of the model on the test set. A lower RMSE indicates that the model's **predictions** are closer to the **actual values**, suggesting that the model is performing reasonably well on unseen data."
   ]
  },
  {
   "cell_type": "code",
   "execution_count": 137,
   "metadata": {},
   "outputs": [
    {
     "data": {
      "text/plain": [
       "0.06838719095484248"
      ]
     },
     "execution_count": 137,
     "metadata": {},
     "output_type": "execute_result"
    }
   ],
   "source": [
    "final_model = grid_search.best_estimator_\n",
    "X_test = strat_test_set.drop([\"value\", \"date\"], axis=1)\n",
    "y_test = strat_test_set[\"value\"].copy()\n",
    "final_predictions = final_model.predict(X_test)\n",
    "final_mse = mean_squared_error(y_test, final_predictions)\n",
    "final_rmse = np.sqrt(final_mse)\n",
    "\n",
    "final_rmse"
   ]
  },
  {
   "cell_type": "markdown",
   "metadata": {},
   "source": [
    "Confidence intervals for the root mean squared error (RMSE) are calculated using the `scipy.stats` library.\n",
    "\n",
    "The confidence level is set to **0.95**, which means we want to calculate a *95%* confidence interval for the RMSE.\n",
    "\n",
    "The squared errors are calculated by subtracting the actual **target values** (\"`y_test`\") from the **predicted values** (\"`final_predictions`\"), and then squaring the differences.\n",
    "\n",
    "The mean and standard error of the squared errors are calculated using the `scipy.stats.sem` function. The standard error represents the standard deviation of the sample means, and it is used to estimate the variability of the sample mean.\n",
    "\n",
    "The `scipy.stats.t.interval` function is used to calculate the confidence interval for the population mean (RMSE) based on the sample mean and standard error. The confidence interval provides a range of values within which we can be *95%* confident that the true population RMSE lies.\n",
    "\n",
    "The result of the confidence interval calculation is an array containing two values: the lower bound and upper bound of the confidence interval. In this case, the *lower bound* is approximately **0.0509**, and the *upper bound* is approximately **0.0823**.\n",
    "\n",
    "Therefore, we can be **95%** confident that the true RMSE for the model on the test set lies within the range of approximately **0.0509** to **0.0823**. This interval provides an estimate of the uncertainty associated with the model's performance on unseen data."
   ]
  },
  {
   "cell_type": "code",
   "execution_count": 138,
   "metadata": {},
   "outputs": [
    {
     "data": {
      "text/plain": [
       "array([0.05087722, 0.08225038])"
      ]
     },
     "execution_count": 138,
     "metadata": {},
     "output_type": "execute_result"
    }
   ],
   "source": [
    "from scipy import stats\n",
    "confidence = 0.95\n",
    "squared_errors = (final_predictions - y_test) ** 2\n",
    "np.sqrt(stats.t.interval(confidence, len(squared_errors) - 1,\n",
    "loc=squared_errors.mean(),\n",
    "scale=stats.sem(squared_errors)))"
   ]
  },
  {
   "cell_type": "markdown",
   "metadata": {},
   "source": [
    "The model performance is evaluated using the Mean Squared Error (MSE), R-squared Score, and Root Mean Squared Error (RMSE).\n",
    "\n",
    "**Mean Squared Error (MSE)**:\n",
    "\n",
    "The MSE is a measure of the average squared difference between the predicted values and the actual target values in the testing set.\n",
    "It is calculated by taking the average of the squared errors (the squared differences between predicted and actual values).\n",
    "A lower MSE indicates better model performance, as it means the model's predictions are closer to the actual values.\n",
    "In this case, the MSE is approximately **0.00468**.\n",
    "\n",
    "**R-squared Score**:\n",
    "\n",
    "The R-squared (R2) score, also known as the coefficient of determination, is a statistical measure that represents the proportion of the variance in the target variable that can be explained by the model.\n",
    "It ranges from **0** to **1**, with **1** indicating that the model perfectly explains the variance in the target variable and **0** indicating that the model does not explain any variance.\n",
    "In this case, the R-squared score is approximately **0.9984**, which is very close to **1**. This high R-squared value suggests that the model explains a large portion of the variance in the target variable and performs well in *predicting* the **Euribor values**.\n",
    "\n",
    "**Root Mean Squared Error (RMSE)**:\n",
    "\n",
    "The RMSE is a measure of the average absolute difference between the predicted values and the actual **target values** in the *testing set*.\n",
    "It is calculated by taking the square root of the MSE, providing a more interpretable measure in the original units of the **target variable**.\n",
    "Like the MSE, a lower RMSE indicates better model performance.\n",
    "In this case, the RMSE is approximately **0.0684**, indicating that, on average, the model's predictions are approximately **0.0684** units away from the actual **Euribor values**.\n",
    "\n",
    "Overall, the model appears to have very high accuracy and performance, as indicated by the low MSE, high R-squared score, and relatively low RMSE. It demonstrates the model's ability to make precise predictions of the Euribor values based on the relevant features in the testing set."
   ]
  },
  {
   "cell_type": "code",
   "execution_count": 139,
   "metadata": {},
   "outputs": [
    {
     "name": "stdout",
     "output_type": "stream",
     "text": [
      "Mean Squared Error (MSE): 0.00467680788669409\n",
      "R-squared Score: 0.9984312889590866\n",
      "Root Mean Squared Error:  0.06838719095484248\n"
     ]
    }
   ],
   "source": [
    "from sklearn.metrics import mean_squared_error, r2_score\n",
    "\n",
    "# Make predictions on the scaled relevant features in the testing set\n",
    "y_test_pred = final_model.predict(X_test)\n",
    "\n",
    "# Evaluate the model performance\n",
    "mse = mean_squared_error(y_test, final_predictions)\n",
    "r2 = r2_score(y_test, final_predictions)\n",
    "final_rmse = np.sqrt(mse)\n",
    "\n",
    "print(\"Mean Squared Error (MSE):\", mse)\n",
    "print(\"R-squared Score:\", r2)\n",
    "print(\"Root Mean Squared Error: \", final_rmse)"
   ]
  },
  {
   "cell_type": "markdown",
   "metadata": {},
   "source": [
    "Create a **DataFrame** called `X_test_new` with four columns: '*gdp_value*', '*unemployment_unemployment_rate*', '*inflation_inflation_rate*', '*year*', and '*month*'. This **DataFrame** represents the **forecast predictions** for *GDP*, *unemployment rate*, and *inflation rate* in *Europe* for the years *2024* and *2025*.\n",
    "\n",
    "Generate three additional columns for each of the original numerical columns ('*gdp_value*', '*unemployment_unemployment_rate*', '*inflation_inflation_rate*') by applying time `shifts` to them. The time shifts are as follows:\n",
    "\n",
    "-   One-time shift ('lag1'): The values in each column are shifted by one position, and the first row is filled with the original value to avoid missing values after the shift.\n",
    "-   Twice shift ('lag2'): The values in each column are shifted by two positions, and the first two rows are filled with the original values.\n",
    "-   Thrice shift ('lag3'): The values in each column are shifted by three positions, and the first three rows are filled with the original values.\n",
    "\n",
    "The newly created columns for each time shift represent the lagged values of the corresponding original columns. These lagged values are used in time series forecasting and analysis to capture temporal dependencies and patterns in the data.\n",
    "\n",
    "The resulting **DataFrame** `X_test_new` now contains the original columns along with the additional **lagged** columns for each time shift.\n",
    "\n",
    "The final step is to display the **DataFrame** `X_test_new` to visualize the original and **lagged** values for each variable in the *forecast predictions*.\n",
    "\n",
    "The output will show the **DataFrame** with columns for '*gdp_lag1*', '*unemployment_lag1*', '*inflation_lag1*', '*gdp_lag2*', '*unemployment_lag2*', '*inflation_lag2*', '*gdp_lag3*', '*unemployment_lag3*', and '*inflation_lag3*', alongside the original columns '*gdp_value*', '*unemployment_unemployment_rate*', and '*inflation_inflation_rate*'. Each column represents the corresponding **time-shifted values** for each variable."
   ]
  },
  {
   "cell_type": "code",
   "execution_count": 140,
   "metadata": {},
   "outputs": [
    {
     "name": "stdout",
     "output_type": "stream",
     "text": [
      "   gdp_value  unemployment_unemployment_rate  inflation_inflation_rate  year   \n",
      "0   486798.7                             7.2                       2.7  2024  \\\n",
      "0   486798.9                             6.7                       3.4  2024   \n",
      "0   486800.1                             6.5                       2.8  2024   \n",
      "0   486798.2                             7.0                       3.2  2024   \n",
      "0   486798.6                             7.1                       3.1  2024   \n",
      "0   486799.8                             6.3                       2.6  2024   \n",
      "0   486800.5                             7.4                       3.3  2024   \n",
      "0   486799.3                             6.6                       2.9  2024   \n",
      "0   486799.9                             6.8                       2.8  2024   \n",
      "0   486798.1                             6.5                       3.2  2024   \n",
      "0   486799.7                             7.2                       3.1  2024   \n",
      "0   486799.4                             6.4                       3.0  2024   \n",
      "1   491998.1                             6.9                       2.1  2025   \n",
      "1   491997.4                             6.6                       2.4  2025   \n",
      "1   491996.7                             7.0                       2.3  2025   \n",
      "1   491997.5                             6.7                       2.2  2025   \n",
      "1   491996.2                             6.5                       2.1  2025   \n",
      "1   491996.9                             6.9                       2.3  2025   \n",
      "1   491997.8                             6.7                       2.4  2025   \n",
      "1   491997.2                             6.6                       2.0  2025   \n",
      "1   491996.8                             6.8                       2.2  2025   \n",
      "1   491997.3                             6.9                       2.1  2025   \n",
      "1   491998.0                             6.7                       2.3  2025   \n",
      "1   491997.6                             6.7                       2.2  2025   \n",
      "\n",
      "   month  gdp_lag1  unemployment_lag1  inflation_lag1  gdp_lag2   \n",
      "0      1  486798.7                7.2             2.7  486798.7  \\\n",
      "0      2  486798.7                7.2             2.7  486798.9   \n",
      "0      3  486798.9                6.7             3.4  486798.7   \n",
      "0      4  486800.1                6.5             2.8  486798.9   \n",
      "0      5  486798.2                7.0             3.2  486800.1   \n",
      "0      6  486798.6                7.1             3.1  486798.2   \n",
      "0      7  486799.8                6.3             2.6  486798.6   \n",
      "0      8  486800.5                7.4             3.3  486799.8   \n",
      "0      9  486799.3                6.6             2.9  486800.5   \n",
      "0     10  486799.9                6.8             2.8  486799.3   \n",
      "0     11  486798.1                6.5             3.2  486799.9   \n",
      "0     12  486799.7                7.2             3.1  486798.1   \n",
      "1      1  486799.4                6.4             3.0  486799.7   \n",
      "1      2  491998.1                6.9             2.1  486799.4   \n",
      "1      3  491997.4                6.6             2.4  491998.1   \n",
      "1      4  491996.7                7.0             2.3  491997.4   \n",
      "1      5  491997.5                6.7             2.2  491996.7   \n",
      "1      6  491996.2                6.5             2.1  491997.5   \n",
      "1      7  491996.9                6.9             2.3  491996.2   \n",
      "1      8  491997.8                6.7             2.4  491996.9   \n",
      "1      9  491997.2                6.6             2.0  491997.8   \n",
      "1     10  491996.8                6.8             2.2  491997.2   \n",
      "1     11  491997.3                6.9             2.1  491996.8   \n",
      "1     12  491998.0                6.7             2.3  491997.3   \n",
      "\n",
      "   unemployment_lag2  inflation_lag2  gdp_lag3  unemployment_lag3   \n",
      "0                7.2             2.7  486798.7                7.2  \\\n",
      "0                6.7             3.4  486798.9                6.7   \n",
      "0                7.2             2.7  486800.1                6.5   \n",
      "0                6.7             3.4  486798.7                7.2   \n",
      "0                6.5             2.8  486798.9                6.7   \n",
      "0                7.0             3.2  486800.1                6.5   \n",
      "0                7.1             3.1  486798.2                7.0   \n",
      "0                6.3             2.6  486798.6                7.1   \n",
      "0                7.4             3.3  486799.8                6.3   \n",
      "0                6.6             2.9  486800.5                7.4   \n",
      "0                6.8             2.8  486799.3                6.6   \n",
      "0                6.5             3.2  486799.9                6.8   \n",
      "1                7.2             3.1  486798.1                6.5   \n",
      "1                6.4             3.0  486799.7                7.2   \n",
      "1                6.9             2.1  486799.4                6.4   \n",
      "1                6.6             2.4  491998.1                6.9   \n",
      "1                7.0             2.3  491997.4                6.6   \n",
      "1                6.7             2.2  491996.7                7.0   \n",
      "1                6.5             2.1  491997.5                6.7   \n",
      "1                6.9             2.3  491996.2                6.5   \n",
      "1                6.7             2.4  491996.9                6.9   \n",
      "1                6.6             2.0  491997.8                6.7   \n",
      "1                6.8             2.2  491997.2                6.6   \n",
      "1                6.9             2.1  491996.8                6.8   \n",
      "\n",
      "   inflation_lag3  \n",
      "0             2.7  \n",
      "0             3.4  \n",
      "0             2.8  \n",
      "0             2.7  \n",
      "0             3.4  \n",
      "0             2.8  \n",
      "0             3.2  \n",
      "0             3.1  \n",
      "0             2.6  \n",
      "0             3.3  \n",
      "0             2.9  \n",
      "0             2.8  \n",
      "1             3.2  \n",
      "1             3.1  \n",
      "1             3.0  \n",
      "1             2.1  \n",
      "1             2.4  \n",
      "1             2.3  \n",
      "1             2.2  \n",
      "1             2.1  \n",
      "1             2.3  \n",
      "1             2.4  \n",
      "1             2.0  \n",
      "1             2.2  \n"
     ]
    }
   ],
   "source": [
    "import pandas as pd\n",
    "\n",
    "data = {\n",
    "    'gdp_value': [486798.7, 486798.9, 486800.1, 486798.2, 486798.6, 486799.8, 486800.5, 486799.3, 486799.9,\n",
    "            486798.1, 486799.7, 486799.4, 491998.1, 491997.4, 491996.7, 491997.5, 491996.2, 491996.9,\n",
    "            491997.8, 491997.2, 491996.8, 491997.3, 491998.0, 491997.6],\n",
    "    'unemployment_unemployment_rate': [7.2, 6.7, 6.5, 7.0, 7.1, 6.3, 7.4, 6.6, 6.8, 6.5, 7.2, 6.4, 6.9, 6.6, 7.0, 6.7, 6.5,\n",
    "                      6.9, 6.7, 6.6, 6.8, 6.9, 6.7, 6.7],\n",
    "    'inflation_inflation_rate': [2.7, 3.4, 2.8, 3.2, 3.1, 2.6, 3.3, 2.9, 2.8, 3.2, 3.1, 3.0, 2.1, 2.4, 2.3, 2.2, 2.1, 2.3, 2.4,\n",
    "                  2.0, 2.2, 2.1, 2.3, 2.2],\n",
    "        'year': pd.Series([2024, 2025]).repeat(12),\n",
    "        'month': [1, 2, 3, 4, 5, 6, 7, 8, 9, 10, 11, 12,\n",
    "                   1, 2, 3, 4, 5, 6, 7, 8, 9, 10, 11, 12]\n",
    "}\n",
    "\n",
    "X_test_new = pd.DataFrame(data)\n",
    "\n",
    "# Applying one time shift\n",
    "X_test_new['gdp_lag1'] = X_test_new['gdp_value'].shift(1).fillna(X_test_new['gdp_value'])\n",
    "X_test_new['unemployment_lag1'] = X_test_new['unemployment_unemployment_rate'].shift(1).fillna(X_test_new['unemployment_unemployment_rate'])\n",
    "X_test_new['inflation_lag1'] = X_test_new['inflation_inflation_rate'].shift(1).fillna(X_test_new['inflation_inflation_rate'])\n",
    "\n",
    "# Applying twice shift\n",
    "X_test_new['gdp_lag2'] = X_test_new['gdp_value'].shift(2).fillna(X_test_new['gdp_value'])\n",
    "X_test_new['unemployment_lag2'] = X_test_new['unemployment_unemployment_rate'].shift(2).fillna(X_test_new['unemployment_unemployment_rate'])\n",
    "X_test_new['inflation_lag2'] = X_test_new['inflation_inflation_rate'].shift(2).fillna(X_test_new['inflation_inflation_rate'])\n",
    "\n",
    "# Applying thrice shift\n",
    "X_test_new['gdp_lag3'] = X_test_new['gdp_value'].shift(3).fillna(X_test_new['gdp_value'])\n",
    "X_test_new['unemployment_lag3'] = X_test_new['unemployment_unemployment_rate'].shift(3).fillna(X_test_new['unemployment_unemployment_rate'])\n",
    "X_test_new['inflation_lag3'] = X_test_new['inflation_inflation_rate'].shift(3).fillna(X_test_new['inflation_inflation_rate'])\n",
    "\n",
    "\n",
    "# Display the DataFrame with the shifted columns\n",
    "print(X_test_new)"
   ]
  },
  {
   "cell_type": "code",
   "execution_count": 141,
   "metadata": {},
   "outputs": [
    {
     "name": "stdout",
     "output_type": "stream",
     "text": [
      "   gdp_value  gdp_lag1  gdp_lag2  gdp_lag3  inflation_inflation_rate   \n",
      "0   486798.7  486798.7  486798.7  486798.7                       2.7  \\\n",
      "0   486798.9  486798.7  486798.9  486798.9                       3.4   \n",
      "0   486800.1  486798.9  486798.7  486800.1                       2.8   \n",
      "0   486798.2  486800.1  486798.9  486798.7                       3.2   \n",
      "0   486798.6  486798.2  486800.1  486798.9                       3.1   \n",
      "0   486799.8  486798.6  486798.2  486800.1                       2.6   \n",
      "0   486800.5  486799.8  486798.6  486798.2                       3.3   \n",
      "0   486799.3  486800.5  486799.8  486798.6                       2.9   \n",
      "0   486799.9  486799.3  486800.5  486799.8                       2.8   \n",
      "0   486798.1  486799.9  486799.3  486800.5                       3.2   \n",
      "0   486799.7  486798.1  486799.9  486799.3                       3.1   \n",
      "0   486799.4  486799.7  486798.1  486799.9                       3.0   \n",
      "1   491998.1  486799.4  486799.7  486798.1                       2.1   \n",
      "1   491997.4  491998.1  486799.4  486799.7                       2.4   \n",
      "1   491996.7  491997.4  491998.1  486799.4                       2.3   \n",
      "1   491997.5  491996.7  491997.4  491998.1                       2.2   \n",
      "1   491996.2  491997.5  491996.7  491997.4                       2.1   \n",
      "1   491996.9  491996.2  491997.5  491996.7                       2.3   \n",
      "1   491997.8  491996.9  491996.2  491997.5                       2.4   \n",
      "1   491997.2  491997.8  491996.9  491996.2                       2.0   \n",
      "1   491996.8  491997.2  491997.8  491996.9                       2.2   \n",
      "1   491997.3  491996.8  491997.2  491997.8                       2.1   \n",
      "1   491998.0  491997.3  491996.8  491997.2                       2.3   \n",
      "1   491997.6  491998.0  491997.3  491996.8                       2.2   \n",
      "\n",
      "   inflation_lag1  inflation_lag2  inflation_lag3   \n",
      "0             2.7             2.7             2.7  \\\n",
      "0             2.7             3.4             3.4   \n",
      "0             3.4             2.7             2.8   \n",
      "0             2.8             3.4             2.7   \n",
      "0             3.2             2.8             3.4   \n",
      "0             3.1             3.2             2.8   \n",
      "0             2.6             3.1             3.2   \n",
      "0             3.3             2.6             3.1   \n",
      "0             2.9             3.3             2.6   \n",
      "0             2.8             2.9             3.3   \n",
      "0             3.2             2.8             2.9   \n",
      "0             3.1             3.2             2.8   \n",
      "1             3.0             3.1             3.2   \n",
      "1             2.1             3.0             3.1   \n",
      "1             2.4             2.1             3.0   \n",
      "1             2.3             2.4             2.1   \n",
      "1             2.2             2.3             2.4   \n",
      "1             2.1             2.2             2.3   \n",
      "1             2.3             2.1             2.2   \n",
      "1             2.4             2.3             2.1   \n",
      "1             2.0             2.4             2.3   \n",
      "1             2.2             2.0             2.4   \n",
      "1             2.1             2.2             2.0   \n",
      "1             2.3             2.1             2.2   \n",
      "\n",
      "   unemployment_unemployment_rate  unemployment_lag1  unemployment_lag2   \n",
      "0                             7.2                7.2                7.2  \\\n",
      "0                             6.7                7.2                6.7   \n",
      "0                             6.5                6.7                7.2   \n",
      "0                             7.0                6.5                6.7   \n",
      "0                             7.1                7.0                6.5   \n",
      "0                             6.3                7.1                7.0   \n",
      "0                             7.4                6.3                7.1   \n",
      "0                             6.6                7.4                6.3   \n",
      "0                             6.8                6.6                7.4   \n",
      "0                             6.5                6.8                6.6   \n",
      "0                             7.2                6.5                6.8   \n",
      "0                             6.4                7.2                6.5   \n",
      "1                             6.9                6.4                7.2   \n",
      "1                             6.6                6.9                6.4   \n",
      "1                             7.0                6.6                6.9   \n",
      "1                             6.7                7.0                6.6   \n",
      "1                             6.5                6.7                7.0   \n",
      "1                             6.9                6.5                6.7   \n",
      "1                             6.7                6.9                6.5   \n",
      "1                             6.6                6.7                6.9   \n",
      "1                             6.8                6.6                6.7   \n",
      "1                             6.9                6.8                6.6   \n",
      "1                             6.7                6.9                6.8   \n",
      "1                             6.7                6.7                6.9   \n",
      "\n",
      "   unemployment_lag3  year  month  \n",
      "0                7.2  2024      1  \n",
      "0                6.7  2024      2  \n",
      "0                6.5  2024      3  \n",
      "0                7.2  2024      4  \n",
      "0                6.7  2024      5  \n",
      "0                6.5  2024      6  \n",
      "0                7.0  2024      7  \n",
      "0                7.1  2024      8  \n",
      "0                6.3  2024      9  \n",
      "0                7.4  2024     10  \n",
      "0                6.6  2024     11  \n",
      "0                6.8  2024     12  \n",
      "1                6.5  2025      1  \n",
      "1                7.2  2025      2  \n",
      "1                6.4  2025      3  \n",
      "1                6.9  2025      4  \n",
      "1                6.6  2025      5  \n",
      "1                7.0  2025      6  \n",
      "1                6.7  2025      7  \n",
      "1                6.5  2025      8  \n",
      "1                6.9  2025      9  \n",
      "1                6.7  2025     10  \n",
      "1                6.6  2025     11  \n",
      "1                6.8  2025     12  \n"
     ]
    }
   ],
   "source": [
    "# Desired column order\n",
    "desired_order = [\n",
    "    'gdp_value', 'gdp_lag1', 'gdp_lag2', 'gdp_lag3',\n",
    "    'inflation_inflation_rate', 'inflation_lag1', 'inflation_lag2', 'inflation_lag3',\n",
    "    'unemployment_unemployment_rate', 'unemployment_lag1', 'unemployment_lag2', 'unemployment_lag3', 'year', 'month'\n",
    "]\n",
    "\n",
    "# Reordering the columns\n",
    "X_test_new = X_test_new[desired_order]\n",
    "\n",
    "# Display the DataFrame with the reordered columns\n",
    "print(X_test_new)"
   ]
  },
  {
   "cell_type": "markdown",
   "metadata": {},
   "source": [
    "The code uses the `final_model` (trained RandomForestRegressor model) to make predictions on the `X_test_new` DataFrame, which contains the data with lagged variables for *GDP*, *inflation rate*, and u*nemployment rate*, as well as '*year*' and '*month*' information.\n",
    "\n",
    "The variable `perdiction_euribor` will hold the predicted values of the **Euribor** (*Euro Interbank Offered Rate*) based on the features provided in `X_test_new`. These predictions are the model's estimations of the **Euribor** values corresponding to the given economic indicators and time periods."
   ]
  },
  {
   "cell_type": "code",
   "execution_count": 142,
   "metadata": {},
   "outputs": [
    {
     "data": {
      "text/plain": [
       "array([1.47869604, 1.75879319, 1.48889576, 1.58520205, 1.54128719,\n",
       "       1.61500871, 1.68601207, 1.60942397, 1.70247383, 1.68420055,\n",
       "       1.76216996, 1.91510428, 1.58183652, 1.54337504, 1.53911357,\n",
       "       1.91187793, 1.96231236, 1.94684156, 1.71754392, 1.99203746,\n",
       "       2.02716327, 1.80671587, 2.05050505, 1.75818479])"
      ]
     },
     "execution_count": 142,
     "metadata": {},
     "output_type": "execute_result"
    }
   ],
   "source": [
    "prediction_euribor = final_model.predict(X_test_new)\n",
    "prediction_euribor"
   ]
  },
  {
   "cell_type": "markdown",
   "metadata": {},
   "source": [
    "The code generates future dates for **2 years** (*assuming monthly frequency*) starting from *January 1, 2024*, using the `pd.date_range` function. The resulting `future_dates` variable holds a pandas DatetimeIndex containing the generated dates.\n",
    "\n",
    "A DataFrame named `future_data` is then created with the generated dates as the index. This DataFrame acts as a placeholder for storing the **predicted Euribor** values for each future date.\n",
    "\n",
    "The predictions of the **Euribor values** obtained from the `prediction_euribor` variable are then combined with the corresponding dates and stored in the DataFrame named `predicted_df`. This DataFrame contains two columns: '*Date*' and '*Predicted Euribor*', where 'Da*te' holds the future dates, and '*Predicted Euribor*' holds the respective **predicted Euribor values**.\n",
    "\n",
    "Finally, prints the `predicted_df` DataFrame, displaying the future *dates* and the corresponding **predicted Euribor values**."
   ]
  },
  {
   "cell_type": "code",
   "execution_count": 143,
   "metadata": {},
   "outputs": [
    {
     "name": "stdout",
     "output_type": "stream",
     "text": [
      "         Date  Predicted Euribor\n",
      "0  2024-01-31           1.478696\n",
      "1  2024-02-29           1.758793\n",
      "2  2024-03-31           1.488896\n",
      "3  2024-04-30           1.585202\n",
      "4  2024-05-31           1.541287\n",
      "5  2024-06-30           1.615009\n",
      "6  2024-07-31           1.686012\n",
      "7  2024-08-31           1.609424\n",
      "8  2024-09-30           1.702474\n",
      "9  2024-10-31           1.684201\n",
      "10 2024-11-30           1.762170\n",
      "11 2024-12-31           1.915104\n",
      "12 2025-01-31           1.581837\n",
      "13 2025-02-28           1.543375\n",
      "14 2025-03-31           1.539114\n",
      "15 2025-04-30           1.911878\n",
      "16 2025-05-31           1.962312\n",
      "17 2025-06-30           1.946842\n",
      "18 2025-07-31           1.717544\n",
      "19 2025-08-31           1.992037\n",
      "20 2025-09-30           2.027163\n",
      "21 2025-10-31           1.806716\n",
      "22 2025-11-30           2.050505\n",
      "23 2025-12-31           1.758185\n"
     ]
    }
   ],
   "source": [
    "future_dates = pd.date_range(start='2024-01-01', periods=2*12, freq='M')  # Generate future dates for 2 years (assuming monthly frequency)\n",
    "future_data = pd.DataFrame(index=future_dates)\n",
    "\n",
    "predicted_df = pd.DataFrame({'Date': future_dates, 'Predicted Euribor': prediction_euribor})\n",
    "\n",
    "# Print the predicted Euribor values\n",
    "print(predicted_df)"
   ]
  },
  {
   "cell_type": "code",
   "execution_count": 144,
   "metadata": {},
   "outputs": [],
   "source": [
    "# import seaborn as sns\n",
    "# import matplotlib.pyplot as plt\n",
    "\n",
    "# # Set the figure size\n",
    "# plt.figure(figsize=(10, 6))\n",
    "\n",
    "# # Customize the color and line style\n",
    "# sns.lineplot(data=predicted_df, x='Date', y='Predicted Euribor', color='blue', linewidth=2)\n",
    "\n",
    "# # Set the title and axis labels\n",
    "# plt.title('Predicted Euribor Over Time', fontsize=16)\n",
    "# plt.xlabel('Date', fontsize=12)\n",
    "# plt.ylabel('Predicted Euribor', fontsize=12)\n",
    "\n",
    "# # Rotate the x-axis tick labels for better readability\n",
    "# plt.xticks(rotation=45)\n",
    "\n",
    "# # Add grid lines\n",
    "# plt.grid(True, linestyle='--', alpha=0.5)\n",
    "\n",
    "# # Remove the top and right spines\n",
    "# sns.despine()\n",
    "\n",
    "# # Display the plot\n",
    "# plt.tight_layout()\n",
    "# plt.show()"
   ]
  },
  {
   "cell_type": "code",
   "execution_count": 145,
   "metadata": {},
   "outputs": [],
   "source": [
    "# import seaborn as sns\n",
    "# import matplotlib.pyplot as plt\n",
    "\n",
    "# # Set a professional color palette\n",
    "# sns.set_palette(\"viridis\")\n",
    "\n",
    "# # Set the figure size\n",
    "# plt.figure(figsize=(10, 6))\n",
    "\n",
    "# # Calculate the RMSE value\n",
    "# rmse = final_rmse\n",
    "\n",
    "# # Calculate the upper and lower bounds of the variation\n",
    "# upper_bound = predicted_df['Predicted Euribor'] + rmse\n",
    "# lower_bound = predicted_df['Predicted Euribor'] - rmse\n",
    "\n",
    "# # Customize the color and line style for the main line\n",
    "# sns.lineplot(data=predicted_df, x='Date', y='Predicted Euribor', color='blue', linewidth=2)\n",
    "\n",
    "# # Plot the shaded region for the variation\n",
    "# plt.fill_between(predicted_df['Date'], lower_bound, upper_bound, color='blue', alpha=0.2, label='Variation')\n",
    "\n",
    "# # Set the title and axis labels with increased font size\n",
    "# plt.title('Predicted Euribor Over Time', fontsize=18)\n",
    "# plt.xlabel('Date', fontsize=14)\n",
    "# plt.ylabel('Predicted Euribor', fontsize=14)\n",
    "\n",
    "# # Increase the font size for tick labels\n",
    "# plt.xticks(fontsize=12, rotation=45)\n",
    "# plt.yticks(fontsize=12)\n",
    "\n",
    "# # Add a legend with increased font size\n",
    "# plt.legend(fontsize=12)\n",
    "\n",
    "# # Add a background grid\n",
    "# plt.grid(True, linestyle='--', alpha=0.5)\n",
    "\n",
    "# # Use a different font style for better readability\n",
    "# plt.rcParams['font.family'] = 'Arial'\n",
    "\n",
    "# # Remove the top and right spines\n",
    "# sns.despine()\n",
    "\n",
    "# # Display the plot\n",
    "# plt.tight_layout()\n",
    "# plt.show()\n"
   ]
  },
  {
   "cell_type": "code",
   "execution_count": 146,
   "metadata": {},
   "outputs": [],
   "source": [
    "# import seaborn as sns\n",
    "# import matplotlib.pyplot as plt\n",
    "\n",
    "# # Set a professional color palette\n",
    "# sns.set_palette(\"viridis\")\n",
    "\n",
    "# # Set the figure size\n",
    "# plt.figure(figsize=(10, 6))\n",
    "\n",
    "# # Calculate the RMSE value\n",
    "# rmse = final_rmse\n",
    "\n",
    "# # Calculate the upper and lower bounds of the variation\n",
    "# upper_bound = predicted_df['Predicted Euribor'] + rmse\n",
    "# lower_bound = predicted_df['Predicted Euribor'] - rmse\n",
    "\n",
    "# # Customize the color and line style for the main line\n",
    "# sns.lineplot(data=predicted_df, x='Date', y='Predicted Euribor', color='blue', linewidth=2, label='Predicted Euribor')\n",
    "\n",
    "# # Plot the shaded region for the variation\n",
    "# plt.fill_between(predicted_df['Date'], lower_bound, upper_bound, color='blue', alpha=0.2, label='Variation')\n",
    "\n",
    "# # Set the title and axis labels with increased font size\n",
    "# plt.title('Predicted Euribor Over Time', fontsize=18, fontweight='bold')\n",
    "# plt.xlabel('Date', fontsize=14, fontweight='bold')\n",
    "# plt.ylabel('Predicted Euribor', fontsize=14, fontweight='bold')\n",
    "\n",
    "# # Increase the font size for tick labels\n",
    "# plt.xticks(fontsize=12, rotation=45, fontweight='normal')\n",
    "# plt.yticks(fontsize=12, fontweight='normal')\n",
    "\n",
    "# # Add a legend with increased font size\n",
    "# plt.legend(fontsize=12)\n",
    "\n",
    "# # Add a background grid with thicker lines and reduced alpha for better visibility\n",
    "# plt.grid(True, linestyle='-', linewidth=0.5, alpha=0.5)\n",
    "\n",
    "# # Use a different font style for better readability\n",
    "# plt.rcParams['font.family'] = 'Arial'\n",
    "\n",
    "# # Remove the top and right spines\n",
    "# sns.despine()\n",
    "\n",
    "# # Display the plot with tight layout\n",
    "# plt.tight_layout()\n",
    "\n",
    "# # Add a background color for better aesthetics\n",
    "# plt.gca().set_facecolor('#f0f0f0')\n",
    "\n",
    "# # Increase the transparency of the variation fill\n",
    "# plt.gca().get_children()[2].set_alpha(0.3)\n",
    "\n",
    "\n",
    "# # Display the plot\n",
    "# plt.show()\n"
   ]
  },
  {
   "cell_type": "code",
   "execution_count": 147,
   "metadata": {},
   "outputs": [
    {
     "data": {
      "text/html": [
       "<style>\n",
       "        .bk-notebook-logo {\n",
       "            display: block;\n",
       "            width: 20px;\n",
       "            height: 20px;\n",
       "            background-image: url(data:image/png;base64,iVBORw0KGgoAAAANSUhEUgAAABQAAAAUCAYAAACNiR0NAAAABHNCSVQICAgIfAhkiAAAAAlwSFlzAAALEgAACxIB0t1+/AAAABx0RVh0U29mdHdhcmUAQWRvYmUgRmlyZXdvcmtzIENTNui8sowAAAOkSURBVDiNjZRtaJVlGMd/1/08zzln5zjP1LWcU9N0NkN8m2CYjpgQYQXqSs0I84OLIC0hkEKoPtiH3gmKoiJDU7QpLgoLjLIQCpEsNJ1vqUOdO7ppbuec5+V+rj4ctwzd8IIbbi6u+8f1539dt3A78eXC7QizUF7gyV1fD1Yqg4JWz84yffhm0qkFqBogB9rM8tZdtwVsPUhWhGcFJngGeWrPzHm5oaMmkfEg1usvLFyc8jLRqDOMru7AyC8saQr7GG7f5fvDeH7Ej8CM66nIF+8yngt6HWaKh7k49Soy9nXurCi1o3qUbS3zWfrYeQDTB/Qj6kX6Ybhw4B+bOYoLKCC9H3Nu/leUTZ1JdRWkkn2ldcCamzrcf47KKXdAJllSlxAOkRgyHsGC/zRday5Qld9DyoM4/q/rUoy/CXh3jzOu3bHUVZeU+DEn8FInkPBFlu3+nW3Nw0mk6vCDiWg8CeJaxEwuHS3+z5RgY+YBR6V1Z1nxSOfoaPa4LASWxxdNp+VWTk7+4vzaou8v8PN+xo+KY2xsw6une2frhw05CTYOmQvsEhjhWjn0bmXPjpE1+kplmmkP3suftwTubK9Vq22qKmrBhpY4jvd5afdRA3wGjFAgcnTK2s4hY0/GPNIb0nErGMCRxWOOX64Z8RAC4oCXdklmEvcL8o0BfkNK4lUg9HTl+oPlQxdNo3Mg4Nv175e/1LDGzZen30MEjRUtmXSfiTVu1kK8W4txyV6BMKlbgk3lMwYCiusNy9fVfvvwMxv8Ynl6vxoByANLTWplvuj/nF9m2+PDtt1eiHPBr1oIfhCChQMBw6Aw0UulqTKZdfVvfG7VcfIqLG9bcldL/+pdWTLxLUy8Qq38heUIjh4XlzZxzQm19lLFlr8vdQ97rjZVOLf8nclzckbcD4wxXMidpX30sFd37Fv/GtwwhzhxGVAprjbg0gCAEeIgwCZyTV2Z1REEW8O4py0wsjeloKoMr6iCY6dP92H6Vw/oTyICIthibxjm/DfN9lVz8IqtqKYLUXfoKVMVQVVJOElGjrnnUt9T9wbgp8AyYKaGlqingHZU/uG2NTZSVqwHQTWkx9hxjkpWDaCg6Ckj5qebgBVbT3V3NNXMSiWSDdGV3hrtzla7J+duwPOToIg42ChPQOQjspnSlp1V+Gjdged7+8UN5CRAV7a5EdFNwCjEaBR27b3W890TE7g24NAP/mMDXRWrGoFPQI9ls/MWO2dWFAar/xcOIImbbpA3zgAAAABJRU5ErkJggg==);\n",
       "        }\n",
       "    </style>\n",
       "    <div>\n",
       "        <a href=\"https://bokeh.org\" target=\"_blank\" class=\"bk-notebook-logo\"></a>\n",
       "        <span id=\"dd1cfeb6-8ba1-4190-837e-756d45b16d2e\">Loading BokehJS ...</span>\n",
       "    </div>\n"
      ]
     },
     "metadata": {},
     "output_type": "display_data"
    },
    {
     "data": {
      "application/javascript": "(function(root) {\n  function now() {\n    return new Date();\n  }\n\n  const force = true;\n\n  if (typeof root._bokeh_onload_callbacks === \"undefined\" || force === true) {\n    root._bokeh_onload_callbacks = [];\n    root._bokeh_is_loading = undefined;\n  }\n\nconst JS_MIME_TYPE = 'application/javascript';\n  const HTML_MIME_TYPE = 'text/html';\n  const EXEC_MIME_TYPE = 'application/vnd.bokehjs_exec.v0+json';\n  const CLASS_NAME = 'output_bokeh rendered_html';\n\n  /**\n   * Render data to the DOM node\n   */\n  function render(props, node) {\n    const script = document.createElement(\"script\");\n    node.appendChild(script);\n  }\n\n  /**\n   * Handle when an output is cleared or removed\n   */\n  function handleClearOutput(event, handle) {\n    const cell = handle.cell;\n\n    const id = cell.output_area._bokeh_element_id;\n    const server_id = cell.output_area._bokeh_server_id;\n    // Clean up Bokeh references\n    if (id != null && id in Bokeh.index) {\n      Bokeh.index[id].model.document.clear();\n      delete Bokeh.index[id];\n    }\n\n    if (server_id !== undefined) {\n      // Clean up Bokeh references\n      const cmd_clean = \"from bokeh.io.state import curstate; print(curstate().uuid_to_server['\" + server_id + \"'].get_sessions()[0].document.roots[0]._id)\";\n      cell.notebook.kernel.execute(cmd_clean, {\n        iopub: {\n          output: function(msg) {\n            const id = msg.content.text.trim();\n            if (id in Bokeh.index) {\n              Bokeh.index[id].model.document.clear();\n              delete Bokeh.index[id];\n            }\n          }\n        }\n      });\n      // Destroy server and session\n      const cmd_destroy = \"import bokeh.io.notebook as ion; ion.destroy_server('\" + server_id + \"')\";\n      cell.notebook.kernel.execute(cmd_destroy);\n    }\n  }\n\n  /**\n   * Handle when a new output is added\n   */\n  function handleAddOutput(event, handle) {\n    const output_area = handle.output_area;\n    const output = handle.output;\n\n    // limit handleAddOutput to display_data with EXEC_MIME_TYPE content only\n    if ((output.output_type != \"display_data\") || (!Object.prototype.hasOwnProperty.call(output.data, EXEC_MIME_TYPE))) {\n      return\n    }\n\n    const toinsert = output_area.element.find(\".\" + CLASS_NAME.split(' ')[0]);\n\n    if (output.metadata[EXEC_MIME_TYPE][\"id\"] !== undefined) {\n      toinsert[toinsert.length - 1].firstChild.textContent = output.data[JS_MIME_TYPE];\n      // store reference to embed id on output_area\n      output_area._bokeh_element_id = output.metadata[EXEC_MIME_TYPE][\"id\"];\n    }\n    if (output.metadata[EXEC_MIME_TYPE][\"server_id\"] !== undefined) {\n      const bk_div = document.createElement(\"div\");\n      bk_div.innerHTML = output.data[HTML_MIME_TYPE];\n      const script_attrs = bk_div.children[0].attributes;\n      for (let i = 0; i < script_attrs.length; i++) {\n        toinsert[toinsert.length - 1].firstChild.setAttribute(script_attrs[i].name, script_attrs[i].value);\n        toinsert[toinsert.length - 1].firstChild.textContent = bk_div.children[0].textContent\n      }\n      // store reference to server id on output_area\n      output_area._bokeh_server_id = output.metadata[EXEC_MIME_TYPE][\"server_id\"];\n    }\n  }\n\n  function register_renderer(events, OutputArea) {\n\n    function append_mime(data, metadata, element) {\n      // create a DOM node to render to\n      const toinsert = this.create_output_subarea(\n        metadata,\n        CLASS_NAME,\n        EXEC_MIME_TYPE\n      );\n      this.keyboard_manager.register_events(toinsert);\n      // Render to node\n      const props = {data: data, metadata: metadata[EXEC_MIME_TYPE]};\n      render(props, toinsert[toinsert.length - 1]);\n      element.append(toinsert);\n      return toinsert\n    }\n\n    /* Handle when an output is cleared or removed */\n    events.on('clear_output.CodeCell', handleClearOutput);\n    events.on('delete.Cell', handleClearOutput);\n\n    /* Handle when a new output is added */\n    events.on('output_added.OutputArea', handleAddOutput);\n\n    /**\n     * Register the mime type and append_mime function with output_area\n     */\n    OutputArea.prototype.register_mime_type(EXEC_MIME_TYPE, append_mime, {\n      /* Is output safe? */\n      safe: true,\n      /* Index of renderer in `output_area.display_order` */\n      index: 0\n    });\n  }\n\n  // register the mime type if in Jupyter Notebook environment and previously unregistered\n  if (root.Jupyter !== undefined) {\n    const events = require('base/js/events');\n    const OutputArea = require('notebook/js/outputarea').OutputArea;\n\n    if (OutputArea.prototype.mime_types().indexOf(EXEC_MIME_TYPE) == -1) {\n      register_renderer(events, OutputArea);\n    }\n  }\n  if (typeof (root._bokeh_timeout) === \"undefined\" || force === true) {\n    root._bokeh_timeout = Date.now() + 5000;\n    root._bokeh_failed_load = false;\n  }\n\n  const NB_LOAD_WARNING = {'data': {'text/html':\n     \"<div style='background-color: #fdd'>\\n\"+\n     \"<p>\\n\"+\n     \"BokehJS does not appear to have successfully loaded. If loading BokehJS from CDN, this \\n\"+\n     \"may be due to a slow or bad network connection. Possible fixes:\\n\"+\n     \"</p>\\n\"+\n     \"<ul>\\n\"+\n     \"<li>re-rerun `output_notebook()` to attempt to load from CDN again, or</li>\\n\"+\n     \"<li>use INLINE resources instead, as so:</li>\\n\"+\n     \"</ul>\\n\"+\n     \"<code>\\n\"+\n     \"from bokeh.resources import INLINE\\n\"+\n     \"output_notebook(resources=INLINE)\\n\"+\n     \"</code>\\n\"+\n     \"</div>\"}};\n\n  function display_loaded() {\n    const el = document.getElementById(\"dd1cfeb6-8ba1-4190-837e-756d45b16d2e\");\n    if (el != null) {\n      el.textContent = \"BokehJS is loading...\";\n    }\n    if (root.Bokeh !== undefined) {\n      if (el != null) {\n        el.textContent = \"BokehJS \" + root.Bokeh.version + \" successfully loaded.\";\n      }\n    } else if (Date.now() < root._bokeh_timeout) {\n      setTimeout(display_loaded, 100)\n    }\n  }\n\n  function run_callbacks() {\n    try {\n      root._bokeh_onload_callbacks.forEach(function(callback) {\n        if (callback != null)\n          callback();\n      });\n    } finally {\n      delete root._bokeh_onload_callbacks\n    }\n    console.debug(\"Bokeh: all callbacks have finished\");\n  }\n\n  function load_libs(css_urls, js_urls, callback) {\n    if (css_urls == null) css_urls = [];\n    if (js_urls == null) js_urls = [];\n\n    root._bokeh_onload_callbacks.push(callback);\n    if (root._bokeh_is_loading > 0) {\n      console.debug(\"Bokeh: BokehJS is being loaded, scheduling callback at\", now());\n      return null;\n    }\n    if (js_urls == null || js_urls.length === 0) {\n      run_callbacks();\n      return null;\n    }\n    console.debug(\"Bokeh: BokehJS not loaded, scheduling load and callback at\", now());\n    root._bokeh_is_loading = css_urls.length + js_urls.length;\n\n    function on_load() {\n      root._bokeh_is_loading--;\n      if (root._bokeh_is_loading === 0) {\n        console.debug(\"Bokeh: all BokehJS libraries/stylesheets loaded\");\n        run_callbacks()\n      }\n    }\n\n    function on_error(url) {\n      console.error(\"failed to load \" + url);\n    }\n\n    for (let i = 0; i < css_urls.length; i++) {\n      const url = css_urls[i];\n      const element = document.createElement(\"link\");\n      element.onload = on_load;\n      element.onerror = on_error.bind(null, url);\n      element.rel = \"stylesheet\";\n      element.type = \"text/css\";\n      element.href = url;\n      console.debug(\"Bokeh: injecting link tag for BokehJS stylesheet: \", url);\n      document.body.appendChild(element);\n    }\n\n    for (let i = 0; i < js_urls.length; i++) {\n      const url = js_urls[i];\n      const element = document.createElement('script');\n      element.onload = on_load;\n      element.onerror = on_error.bind(null, url);\n      element.async = false;\n      element.src = url;\n      console.debug(\"Bokeh: injecting script tag for BokehJS library: \", url);\n      document.head.appendChild(element);\n    }\n  };\n\n  function inject_raw_css(css) {\n    const element = document.createElement(\"style\");\n    element.appendChild(document.createTextNode(css));\n    document.body.appendChild(element);\n  }\n\n  const js_urls = [\"https://cdn.bokeh.org/bokeh/release/bokeh-3.2.1.min.js\", \"https://cdn.bokeh.org/bokeh/release/bokeh-gl-3.2.1.min.js\", \"https://cdn.bokeh.org/bokeh/release/bokeh-widgets-3.2.1.min.js\", \"https://cdn.bokeh.org/bokeh/release/bokeh-tables-3.2.1.min.js\", \"https://cdn.bokeh.org/bokeh/release/bokeh-mathjax-3.2.1.min.js\"];\n  const css_urls = [];\n\n  const inline_js = [    function(Bokeh) {\n      Bokeh.set_log_level(\"info\");\n    },\nfunction(Bokeh) {\n    }\n  ];\n\n  function run_inline_js() {\n    if (root.Bokeh !== undefined || force === true) {\n          for (let i = 0; i < inline_js.length; i++) {\n      inline_js[i].call(root, root.Bokeh);\n    }\nif (force === true) {\n        display_loaded();\n      }} else if (Date.now() < root._bokeh_timeout) {\n      setTimeout(run_inline_js, 100);\n    } else if (!root._bokeh_failed_load) {\n      console.log(\"Bokeh: BokehJS failed to load within specified timeout.\");\n      root._bokeh_failed_load = true;\n    } else if (force !== true) {\n      const cell = $(document.getElementById(\"dd1cfeb6-8ba1-4190-837e-756d45b16d2e\")).parents('.cell').data().cell;\n      cell.output_area.append_execute_result(NB_LOAD_WARNING)\n    }\n  }\n\n  if (root._bokeh_is_loading === 0) {\n    console.debug(\"Bokeh: BokehJS loaded, going straight to plotting\");\n    run_inline_js();\n  } else {\n    load_libs(css_urls, js_urls, function() {\n      console.debug(\"Bokeh: BokehJS plotting callback run at\", now());\n      run_inline_js();\n    });\n  }\n}(window));",
      "application/vnd.bokehjs_load.v0+json": ""
     },
     "metadata": {},
     "output_type": "display_data"
    },
    {
     "data": {
      "text/html": [
       "\n",
       "  <div id=\"ccd4fbec-bddd-47ad-bc21-812c1cc54b3c\" data-root-id=\"p1986\" style=\"display: contents;\"></div>\n"
      ]
     },
     "metadata": {},
     "output_type": "display_data"
    },
    {
     "data": {
      "application/javascript": "(function(root) {\n  function embed_document(root) {\n  const docs_json = {\"ab5f221f-26ca-400b-a1ad-82a595ffc0cb\":{\"version\":\"3.2.1\",\"title\":\"Bokeh Application\",\"roots\":[{\"type\":\"object\",\"name\":\"Figure\",\"id\":\"p1986\",\"attributes\":{\"width\":800,\"height\":400,\"x_range\":{\"type\":\"object\",\"name\":\"DataRange1d\",\"id\":\"p1987\"},\"y_range\":{\"type\":\"object\",\"name\":\"DataRange1d\",\"id\":\"p1988\"},\"x_scale\":{\"type\":\"object\",\"name\":\"LinearScale\",\"id\":\"p1996\"},\"y_scale\":{\"type\":\"object\",\"name\":\"LinearScale\",\"id\":\"p1997\"},\"title\":{\"type\":\"object\",\"name\":\"Title\",\"id\":\"p1989\",\"attributes\":{\"text\":\"Predicted Euribor\"}},\"renderers\":[{\"type\":\"object\",\"name\":\"GlyphRenderer\",\"id\":\"p2033\",\"attributes\":{\"data_source\":{\"type\":\"object\",\"name\":\"ColumnDataSource\",\"id\":\"p1983\",\"attributes\":{\"selected\":{\"type\":\"object\",\"name\":\"Selection\",\"id\":\"p1984\",\"attributes\":{\"indices\":[],\"line_indices\":[]}},\"selection_policy\":{\"type\":\"object\",\"name\":\"UnionRenderers\",\"id\":\"p1985\"},\"data\":{\"type\":\"map\",\"entries\":[[\"index\",{\"type\":\"ndarray\",\"array\":{\"type\":\"bytes\",\"data\":\"AAAAAAEAAAACAAAAAwAAAAQAAAAFAAAABgAAAAcAAAAIAAAACQAAAAoAAAALAAAADAAAAA0AAAAOAAAADwAAABAAAAARAAAAEgAAABMAAAAUAAAAFQAAABYAAAAXAAAA\"},\"shape\":[24],\"dtype\":\"int32\",\"order\":\"little\"}],[\"Date\",{\"type\":\"ndarray\",\"array\":{\"type\":\"bytes\",\"data\":\"AADAC83VeEIAAICSIt94QgAAwOQc6XhCAABA0cTyeEIAAIAjv/x4QgAAABBnBnlCAABAYmEQeUIAAIC0Wxp5QgAAAKEDJHlCAABA8/0teUIAAMDfpTd5QgAAADKgQXlCAABAhJpLeUIAAEClnVR5QgAAgPeXXnlCAAAA5D9oeUIAAEA2OnJ5QgAAwCLie3lCAAAAddyFeUIAAEDH1o95QgAAwLN+mXlCAAAABnmjeUIAAIDyIK15QgAAwEQbt3lC\"},\"shape\":[24],\"dtype\":\"float64\",\"order\":\"little\"}],[\"Predicted Euribor\",{\"type\":\"ndarray\",\"array\":{\"type\":\"bytes\",\"data\":\"FZDMLr2o9z/2UOZUBCT8P7alyVyE0vc/grGP0vxc+T/8SobBHKn4P+0emF4T1/k/Pczhyef5+j846wVaM8D5P+BjGjNVPfs/k4xNRXzy+j8unOkh2TH8P9CwKGNEpP4/mqyOzzNP+T/4nrwFqrH4P5yGQIw1oPg/+Fl7Tw2X/j/N4gumoWX/P44ZjFZDJv8/nceOVg97+z/bpzytYt//P+KDf2ChNwBAc4ET5k7o/D/C2mIxb2cAQLDkxV6GIfw/\"},\"shape\":[24],\"dtype\":\"float64\",\"order\":\"little\"}],[\"Upper Bound\",{\"type\":\"ndarray\",\"array\":{\"type\":\"bytes\",\"data\":\"rWyWWdrA+D+OLbB/ITz9P06Ck4eh6vg/Go5Z/Rl1+j+UJ1DsOcH5P4X7YYkw7/o/1air9AQS/D/Qx8+EUNj6P3hA5F1yVfw/K2kXcJkK/D/GeLNM9kn9P2iN8o1hvP8/MolY+lBn+j+Qe4Ywx8n5PzRjCrdSuPk/kDZFeiqv/z+y32po3z4AQBP7qkAwHwBANaRYgSyT/D85QgPsv3sAQC5y5PWvwwBAC17dEGwA/j8OycfGffMAQEjBj4mjOf0/\"},\"shape\":[24],\"dtype\":\"float64\",\"order\":\"little\"}],[\"Lower Bound\",{\"type\":\"ndarray\",\"array\":{\"type\":\"bytes\",\"data\":\"fbMCBKCQ9j9edBwq5wv7Px7J/zFnuvY/6tTFp99E+D9kbryW/5D3P1VCzjP2vvg/pe8Xn8rh+T+gDjwvFqj4P0iHUAg4Jfo/+6+DGl/a+T+Wvx/3uxn7PzjUXjgnjP0/AtDEpBY3+D9gwvLajJn3PwSqdmEYiPc/YH2xJPB+/T81BkJ7hE3+P/Y8wismDv4/BevEK/Ji+j9Dy3KCRcf+PywrNZYlV/8/26RJuzHQ+z/s2Ps3wbb/PxgI/DNpCfs/\"},\"shape\":[24],\"dtype\":\"float64\",\"order\":\"little\"}]]}}},\"view\":{\"type\":\"object\",\"name\":\"CDSView\",\"id\":\"p2034\",\"attributes\":{\"filter\":{\"type\":\"object\",\"name\":\"AllIndices\",\"id\":\"p2035\"}}},\"glyph\":{\"type\":\"object\",\"name\":\"Line\",\"id\":\"p2030\",\"attributes\":{\"x\":{\"type\":\"field\",\"field\":\"Date\"},\"y\":{\"type\":\"field\",\"field\":\"Predicted Euribor\"},\"line_color\":\"blue\",\"line_width\":2}},\"nonselection_glyph\":{\"type\":\"object\",\"name\":\"Line\",\"id\":\"p2031\",\"attributes\":{\"x\":{\"type\":\"field\",\"field\":\"Date\"},\"y\":{\"type\":\"field\",\"field\":\"Predicted Euribor\"},\"line_color\":\"blue\",\"line_alpha\":0.1,\"line_width\":2}},\"muted_glyph\":{\"type\":\"object\",\"name\":\"Line\",\"id\":\"p2032\",\"attributes\":{\"x\":{\"type\":\"field\",\"field\":\"Date\"},\"y\":{\"type\":\"field\",\"field\":\"Predicted Euribor\"},\"line_color\":\"blue\",\"line_alpha\":0.2,\"line_width\":2}}}},{\"type\":\"object\",\"name\":\"GlyphRenderer\",\"id\":\"p2044\",\"attributes\":{\"data_source\":{\"id\":\"p1983\"},\"view\":{\"type\":\"object\",\"name\":\"CDSView\",\"id\":\"p2045\",\"attributes\":{\"filter\":{\"type\":\"object\",\"name\":\"AllIndices\",\"id\":\"p2046\"}}},\"glyph\":{\"type\":\"object\",\"name\":\"VArea\",\"id\":\"p2041\",\"attributes\":{\"x\":{\"type\":\"field\",\"field\":\"Date\"},\"y1\":{\"type\":\"field\",\"field\":\"Upper Bound\"},\"y2\":{\"type\":\"field\",\"field\":\"Lower Bound\"},\"fill_color\":\"blue\",\"fill_alpha\":0.3}},\"nonselection_glyph\":{\"type\":\"object\",\"name\":\"VArea\",\"id\":\"p2042\",\"attributes\":{\"x\":{\"type\":\"field\",\"field\":\"Date\"},\"y1\":{\"type\":\"field\",\"field\":\"Upper Bound\"},\"y2\":{\"type\":\"field\",\"field\":\"Lower Bound\"},\"fill_color\":\"blue\",\"fill_alpha\":0.1,\"hatch_alpha\":{\"type\":\"value\",\"value\":0.1}}},\"muted_glyph\":{\"type\":\"object\",\"name\":\"VArea\",\"id\":\"p2043\",\"attributes\":{\"x\":{\"type\":\"field\",\"field\":\"Date\"},\"y1\":{\"type\":\"field\",\"field\":\"Upper Bound\"},\"y2\":{\"type\":\"field\",\"field\":\"Lower Bound\"},\"fill_color\":\"blue\",\"fill_alpha\":0.2,\"hatch_alpha\":{\"type\":\"value\",\"value\":0.2}}}}},{\"type\":\"object\",\"name\":\"GlyphRenderer\",\"id\":\"p2055\",\"attributes\":{\"data_source\":{\"id\":\"p1983\"},\"view\":{\"type\":\"object\",\"name\":\"CDSView\",\"id\":\"p2056\",\"attributes\":{\"filter\":{\"type\":\"object\",\"name\":\"AllIndices\",\"id\":\"p2057\"}}},\"glyph\":{\"type\":\"object\",\"name\":\"Circle\",\"id\":\"p2052\",\"attributes\":{\"x\":{\"type\":\"field\",\"field\":\"Date\"},\"y\":{\"type\":\"field\",\"field\":\"Predicted Euribor\"},\"size\":{\"type\":\"value\",\"value\":8},\"line_color\":{\"type\":\"value\",\"value\":\"#440357\"},\"fill_color\":{\"type\":\"value\",\"value\":\"#440357\"},\"hatch_color\":{\"type\":\"value\",\"value\":\"#440357\"}}},\"nonselection_glyph\":{\"type\":\"object\",\"name\":\"Circle\",\"id\":\"p2053\",\"attributes\":{\"x\":{\"type\":\"field\",\"field\":\"Date\"},\"y\":{\"type\":\"field\",\"field\":\"Predicted Euribor\"},\"size\":{\"type\":\"value\",\"value\":8},\"line_color\":{\"type\":\"value\",\"value\":\"#440357\"},\"line_alpha\":{\"type\":\"value\",\"value\":0.1},\"fill_color\":{\"type\":\"value\",\"value\":\"#440357\"},\"fill_alpha\":{\"type\":\"value\",\"value\":0.1},\"hatch_color\":{\"type\":\"value\",\"value\":\"#440357\"},\"hatch_alpha\":{\"type\":\"value\",\"value\":0.1}}},\"muted_glyph\":{\"type\":\"object\",\"name\":\"Circle\",\"id\":\"p2054\",\"attributes\":{\"x\":{\"type\":\"field\",\"field\":\"Date\"},\"y\":{\"type\":\"field\",\"field\":\"Predicted Euribor\"},\"size\":{\"type\":\"value\",\"value\":8},\"line_color\":{\"type\":\"value\",\"value\":\"#440357\"},\"line_alpha\":{\"type\":\"value\",\"value\":0.2},\"fill_color\":{\"type\":\"value\",\"value\":\"#440357\"},\"fill_alpha\":{\"type\":\"value\",\"value\":0.2},\"hatch_color\":{\"type\":\"value\",\"value\":\"#440357\"},\"hatch_alpha\":{\"type\":\"value\",\"value\":0.2}}}}}],\"toolbar\":{\"type\":\"object\",\"name\":\"Toolbar\",\"id\":\"p1995\",\"attributes\":{\"tools\":[{\"type\":\"object\",\"name\":\"PanTool\",\"id\":\"p2020\"},{\"type\":\"object\",\"name\":\"WheelZoomTool\",\"id\":\"p2021\"},{\"type\":\"object\",\"name\":\"BoxZoomTool\",\"id\":\"p2022\",\"attributes\":{\"overlay\":{\"type\":\"object\",\"name\":\"BoxAnnotation\",\"id\":\"p2023\",\"attributes\":{\"syncable\":false,\"level\":\"overlay\",\"visible\":false,\"left_units\":\"canvas\",\"right_units\":\"canvas\",\"bottom_units\":\"canvas\",\"top_units\":\"canvas\",\"line_color\":\"black\",\"line_alpha\":1.0,\"line_width\":2,\"line_dash\":[4,4],\"fill_color\":\"lightgrey\",\"fill_alpha\":0.5}}}},{\"type\":\"object\",\"name\":\"SaveTool\",\"id\":\"p2024\"},{\"type\":\"object\",\"name\":\"ResetTool\",\"id\":\"p2025\"},{\"type\":\"object\",\"name\":\"HelpTool\",\"id\":\"p2026\"},{\"type\":\"object\",\"name\":\"HoverTool\",\"id\":\"p2048\",\"attributes\":{\"renderers\":\"auto\",\"tooltips\":[[\"Date\",\"@Date{%F}\"],[\"Predicted Euribor\",\"@{Predicted Euribor}{0.000}\"],[\"Upper Bound\",\"@{Upper Bound}{0.000}\"],[\"Lower Bound\",\"@{Lower Bound}{0.000}\"]],\"formatters\":{\"type\":\"map\",\"entries\":[[\"@Date\",\"datetime\"]]},\"mode\":\"vline\"}}]}},\"left\":[{\"type\":\"object\",\"name\":\"LinearAxis\",\"id\":\"p2015\",\"attributes\":{\"ticker\":{\"type\":\"object\",\"name\":\"BasicTicker\",\"id\":\"p2016\",\"attributes\":{\"mantissas\":[1,2,5]}},\"formatter\":{\"type\":\"object\",\"name\":\"BasicTickFormatter\",\"id\":\"p2017\"},\"axis_label\":\"Predicted Euribor\",\"major_label_policy\":{\"type\":\"object\",\"name\":\"AllLabels\",\"id\":\"p2018\"}}}],\"below\":[{\"type\":\"object\",\"name\":\"DatetimeAxis\",\"id\":\"p1998\",\"attributes\":{\"ticker\":{\"type\":\"object\",\"name\":\"DatetimeTicker\",\"id\":\"p1999\",\"attributes\":{\"num_minor_ticks\":5,\"tickers\":[{\"type\":\"object\",\"name\":\"AdaptiveTicker\",\"id\":\"p2000\",\"attributes\":{\"num_minor_ticks\":0,\"mantissas\":[1,2,5],\"max_interval\":500.0}},{\"type\":\"object\",\"name\":\"AdaptiveTicker\",\"id\":\"p2001\",\"attributes\":{\"num_minor_ticks\":0,\"base\":60,\"mantissas\":[1,2,5,10,15,20,30],\"min_interval\":1000.0,\"max_interval\":1800000.0}},{\"type\":\"object\",\"name\":\"AdaptiveTicker\",\"id\":\"p2002\",\"attributes\":{\"num_minor_ticks\":0,\"base\":24,\"mantissas\":[1,2,4,6,8,12],\"min_interval\":3600000.0,\"max_interval\":43200000.0}},{\"type\":\"object\",\"name\":\"DaysTicker\",\"id\":\"p2003\",\"attributes\":{\"days\":[1,2,3,4,5,6,7,8,9,10,11,12,13,14,15,16,17,18,19,20,21,22,23,24,25,26,27,28,29,30,31]}},{\"type\":\"object\",\"name\":\"DaysTicker\",\"id\":\"p2004\",\"attributes\":{\"days\":[1,4,7,10,13,16,19,22,25,28]}},{\"type\":\"object\",\"name\":\"DaysTicker\",\"id\":\"p2005\",\"attributes\":{\"days\":[1,8,15,22]}},{\"type\":\"object\",\"name\":\"DaysTicker\",\"id\":\"p2006\",\"attributes\":{\"days\":[1,15]}},{\"type\":\"object\",\"name\":\"MonthsTicker\",\"id\":\"p2007\",\"attributes\":{\"months\":[0,1,2,3,4,5,6,7,8,9,10,11]}},{\"type\":\"object\",\"name\":\"MonthsTicker\",\"id\":\"p2008\",\"attributes\":{\"months\":[0,2,4,6,8,10]}},{\"type\":\"object\",\"name\":\"MonthsTicker\",\"id\":\"p2009\",\"attributes\":{\"months\":[0,4,8]}},{\"type\":\"object\",\"name\":\"MonthsTicker\",\"id\":\"p2010\",\"attributes\":{\"months\":[0,6]}},{\"type\":\"object\",\"name\":\"YearsTicker\",\"id\":\"p2011\"}]}},\"formatter\":{\"type\":\"object\",\"name\":\"DatetimeTickFormatter\",\"id\":\"p2012\"},\"axis_label\":\"Date\",\"major_label_policy\":{\"type\":\"object\",\"name\":\"AllLabels\",\"id\":\"p2013\"}}}],\"center\":[{\"type\":\"object\",\"name\":\"Grid\",\"id\":\"p2014\",\"attributes\":{\"axis\":{\"id\":\"p1998\"},\"grid_line_color\":\"rgba(0, 0, 0, 0.2)\",\"grid_line_width\":0.5}},{\"type\":\"object\",\"name\":\"Grid\",\"id\":\"p2019\",\"attributes\":{\"dimension\":1,\"axis\":{\"id\":\"p2015\"},\"grid_line_color\":\"rgba(0, 0, 0, 0.2)\",\"grid_line_width\":0.5}},{\"type\":\"object\",\"name\":\"Legend\",\"id\":\"p2036\",\"attributes\":{\"location\":\"top_left\",\"border_line_color\":null,\"background_fill_alpha\":0.7,\"label_text_color\":\"black\",\"label_text_font\":\"Arial\",\"label_text_font_size\":\"12px\",\"items\":[{\"type\":\"object\",\"name\":\"LegendItem\",\"id\":\"p2037\",\"attributes\":{\"label\":{\"type\":\"value\",\"value\":\"Predicted Euribor\"},\"renderers\":[{\"id\":\"p2033\"}]}},{\"type\":\"object\",\"name\":\"LegendItem\",\"id\":\"p2047\",\"attributes\":{\"label\":{\"type\":\"value\",\"value\":\"Variation\"},\"renderers\":[{\"id\":\"p2044\"}]}}]}}],\"background_fill_color\":\"#f0f0f0\"}}]}};\n  const render_items = [{\"docid\":\"ab5f221f-26ca-400b-a1ad-82a595ffc0cb\",\"roots\":{\"p1986\":\"ccd4fbec-bddd-47ad-bc21-812c1cc54b3c\"},\"root_ids\":[\"p1986\"]}];\n  root.Bokeh.embed.embed_items_notebook(docs_json, render_items);\n  }\n  if (root.Bokeh !== undefined) {\n    embed_document(root);\n  } else {\n    let attempts = 0;\n    const timer = setInterval(function(root) {\n      if (root.Bokeh !== undefined) {\n        clearInterval(timer);\n        embed_document(root);\n      } else {\n        attempts++;\n        if (attempts > 100) {\n          clearInterval(timer);\n          console.log(\"Bokeh: ERROR: Unable to run BokehJS code because BokehJS library is missing\");\n        }\n      }\n    }, 10, root)\n  }\n})(window);",
      "application/vnd.bokehjs_exec.v0+json": ""
     },
     "metadata": {
      "application/vnd.bokehjs_exec.v0+json": {
       "id": "p1986"
      }
     },
     "output_type": "display_data"
    }
   ],
   "source": [
    "import pandas as pd\n",
    "from bokeh.plotting import figure, show\n",
    "from bokeh.io import output_notebook\n",
    "from bokeh.models import ColumnDataSource, HoverTool\n",
    "from bokeh.layouts import column\n",
    "from bokeh.palettes import Viridis256\n",
    "\n",
    "# Calculate the RMSE value\n",
    "rmse = final_rmse\n",
    "\n",
    "# Calculate the upper and lower bounds of the variation\n",
    "predicted_df['Upper Bound'] = predicted_df['Predicted Euribor'] + rmse\n",
    "predicted_df['Lower Bound'] = predicted_df['Predicted Euribor'] - rmse\n",
    "\n",
    "# Create a ColumnDataSource\n",
    "source = ColumnDataSource(predicted_df)\n",
    "\n",
    "# Create the figure\n",
    "p = figure(x_axis_type='datetime', width=800, height=400, title='Predicted Euribor',\n",
    "           x_axis_label='Date', y_axis_label='Predicted Euribor')\n",
    "\n",
    "# Customize the main line for the predicted Euribor\n",
    "p.line(x='Date', y='Predicted Euribor', source=source, line_color='blue', line_width=2, legend_label='Predicted Euribor')\n",
    "\n",
    "# Add the shaded region for the variation\n",
    "p.varea(x='Date', y1='Upper Bound', y2='Lower Bound', source=source, fill_alpha=0.3, fill_color='blue', legend_label='Variation')\n",
    "\n",
    "# Customize hover tool\n",
    "hover = HoverTool(tooltips=[('Date', '@Date{%F}'), ('Predicted Euribor', '@{Predicted Euribor}{0.000}'),\n",
    "                            ('Upper Bound', '@{Upper Bound}{0.000}'), ('Lower Bound', '@{Lower Bound}{0.000}')],\n",
    "                  formatters={'@Date': 'datetime'}, mode='vline')\n",
    "\n",
    "# Add 'o' markers at the exact points of the predicted Euribor values\n",
    "p.circle(x='Date', y='Predicted Euribor', source=source, size=8, color=color_palette[2])\n",
    "\n",
    "\n",
    "# Add hover tool to the figure\n",
    "p.add_tools(hover)\n",
    "\n",
    "# Customize the legend\n",
    "p.legend.location = 'top_left'\n",
    "p.legend.background_fill_alpha = 0.7\n",
    "p.legend.border_line_color = None\n",
    "p.legend.label_text_color = 'black'\n",
    "p.legend.label_text_font_size = '12px'\n",
    "p.legend.label_text_font = 'Arial'\n",
    "\n",
    "# Customize grid lines\n",
    "p.grid.grid_line_color = 'rgba(0, 0, 0, 0.2)'\n",
    "p.grid.grid_line_width = 0.5\n",
    "\n",
    "# Set background color\n",
    "p.background_fill_color = '#f0f0f0'\n",
    "\n",
    "# Show the interactive plot in Jupyter Notebook\n",
    "output_notebook()\n",
    "show(p)\n"
   ]
  },
  {
   "cell_type": "markdown",
   "metadata": {},
   "source": [
    "In conclusion, the analysis and prediction of Euribor values have been successfully carried out using machine learning techniques. The process began with the acquisition and preparation of comprehensive datasets containing historical Euribor rates and relevant economic indicators. Data cleaning and feature engineering were performed to ensure the data's quality and suitability for analysis.\n",
    "\n",
    "Afterwards, a Random Forest Regressor model was selected and trained using the prepared datasets. The model was evaluated using cross-validation to assess its performance and fine-tune its hyperparameters. Grid search was employed to find the best combination of hyperparameters, resulting in an optimized Random Forest Regressor model.\n",
    "\n",
    "The final model demonstrated excellent performance with an R-squared score of approximately 0.9984, indicating a high degree of accuracy in predicting Euribor values. The Root Mean Squared Error (RMSE) of approximately 0.0684 indicates that the model's predictions are generally close to the actual values.\n",
    "\n",
    "The feature importances derived from the model highlighted the most significant variables influencing the Euribor, such as unemployment rates and GDP values. These insights provide valuable information for businesses and financial institutions to make informed decisions and develop strategic plans based on the predicted Euribor values.\n",
    "\n",
    "Moreover, the model's predictions were used to forecast Euribor values for the next 2 years, generating a DataFrame containing future dates and their corresponding predicted Euribor values.\n",
    "\n",
    "Overall, this analysis showcases the power of machine learning in forecasting financial indicators like Euribor, which can greatly benefit businesses and investors in making data-driven decisions. However, it's essential to continuously update and validate the model with new data to ensure its accuracy and reliability in real-world scenarios.\n",
    "\n",
    "In summary, this project successfully developed a predictive model for Euribor values, and its application can provide a competitive advantage in the fast-paced global economy, where accurate and timely financial forecasts are crucial for maximizing returns and managing risks effectively.\n",
    "\n",
    "---"
   ]
  }
 ],
 "metadata": {
  "kernelspec": {
   "display_name": "Python 3",
   "language": "python",
   "name": "python3"
  },
  "language_info": {
   "codemirror_mode": {
    "name": "ipython",
    "version": 3
   },
   "file_extension": ".py",
   "mimetype": "text/x-python",
   "name": "python",
   "nbconvert_exporter": "python",
   "pygments_lexer": "ipython3",
   "version": "3.11.4"
  },
  "orig_nbformat": 4
 },
 "nbformat": 4,
 "nbformat_minor": 2
}
